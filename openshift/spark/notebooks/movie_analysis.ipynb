{
 "cells": [
  {
   "cell_type": "markdown",
   "metadata": {},
   "source": [
    "# Spark Movies Test Notebook"
   ]
  },
  {
   "cell_type": "code",
   "execution_count": 1,
   "metadata": {},
   "outputs": [],
   "source": [
    "from pyspark.sql import SparkSession\n",
    "\n",
    "from pyspark.sql.functions import udf, from_json, explode_outer\n",
    "from pyspark.sql.functions import col, when, length, concat_ws\n",
    "from pyspark.sql.functions import to_timestamp, month, year\n",
    "\n",
    "from pyspark.sql.types import StructField, StructType\n",
    "from pyspark.sql.types import ArrayType, StringType, IntegerType, BooleanType, FloatType, DateType"
   ]
  },
  {
   "cell_type": "markdown",
   "metadata": {},
   "source": [
    "### Create Spark Session"
   ]
  },
  {
   "cell_type": "code",
   "execution_count": 2,
   "metadata": {},
   "outputs": [],
   "source": [
    "spark = SparkSession.builder.appName(\"movie_analysis\").getOrCreate()\n",
    "sc = spark.sparkContext"
   ]
  },
  {
   "cell_type": "markdown",
   "metadata": {},
   "source": [
    "### Read Data"
   ]
  },
  {
   "cell_type": "code",
   "execution_count": 3,
   "metadata": {},
   "outputs": [
    {
     "data": {
      "text/plain": [
       "45572"
      ]
     },
     "execution_count": 3,
     "metadata": {},
     "output_type": "execute_result"
    }
   ],
   "source": [
    "df = spark.read.csv(\"../data/raw/movies.csv\", sep=\",\", header=True, inferSchema=True)\n",
    "df.count()"
   ]
  },
  {
   "cell_type": "code",
   "execution_count": 4,
   "metadata": {},
   "outputs": [
    {
     "name": "stdout",
     "output_type": "stream",
     "text": [
      "root\n",
      " |-- adult: string (nullable = true)\n",
      " |-- belongs_to_collection: string (nullable = true)\n",
      " |-- budget: string (nullable = true)\n",
      " |-- genres: string (nullable = true)\n",
      " |-- homepage: string (nullable = true)\n",
      " |-- id: string (nullable = true)\n",
      " |-- imdb_id: string (nullable = true)\n",
      " |-- original_language: string (nullable = true)\n",
      " |-- original_title: string (nullable = true)\n",
      " |-- overview: string (nullable = true)\n",
      " |-- popularity: string (nullable = true)\n",
      " |-- poster_path: string (nullable = true)\n",
      " |-- production_companies: string (nullable = true)\n",
      " |-- production_countries: string (nullable = true)\n",
      " |-- release_date: string (nullable = true)\n",
      " |-- revenue: string (nullable = true)\n",
      " |-- runtime: string (nullable = true)\n",
      " |-- spoken_languages: string (nullable = true)\n",
      " |-- status: string (nullable = true)\n",
      " |-- tagline: string (nullable = true)\n",
      " |-- title: string (nullable = true)\n",
      " |-- video: string (nullable = true)\n",
      " |-- vote_average: string (nullable = true)\n",
      " |-- vote_count: string (nullable = true)\n",
      "\n"
     ]
    }
   ],
   "source": [
    "df.printSchema()"
   ]
  },
  {
   "cell_type": "code",
   "execution_count": 5,
   "metadata": {},
   "outputs": [
    {
     "data": {
      "text/plain": [
       "45555"
      ]
     },
     "execution_count": 5,
     "metadata": {},
     "output_type": "execute_result"
    }
   ],
   "source": [
    "df = df.dropDuplicates()\n",
    "df.count()"
   ]
  },
  {
   "cell_type": "markdown",
   "metadata": {},
   "source": [
    "## Index Analysis"
   ]
  },
  {
   "cell_type": "markdown",
   "metadata": {},
   "source": [
    "### id"
   ]
  },
  {
   "cell_type": "markdown",
   "metadata": {},
   "source": [
    "#### Rename - id -> movie_id"
   ]
  },
  {
   "cell_type": "code",
   "execution_count": 6,
   "metadata": {},
   "outputs": [
    {
     "name": "stdout",
     "output_type": "stream",
     "text": [
      "+--------------------+-----+\n",
      "|            movie_id|count|\n",
      "+--------------------+-----+\n",
      "|                null|   31|\n",
      "|[{'id': 35, 'name...|   15|\n",
      "|                  []|    8|\n",
      "|[{'id': 27, 'name...|    5|\n",
      "|[{'id': 18, 'name...|    4|\n",
      "+--------------------+-----+\n",
      "only showing top 5 rows\n",
      "\n"
     ]
    }
   ],
   "source": [
    "df = df.withColumnRenamed(\"id\", \"movie_id\")\n",
    "df.select(\"movie_id\").groupby(\"movie_id\").count().orderBy(col(\"count\").desc()).show(5)"
   ]
  },
  {
   "cell_type": "markdown",
   "metadata": {},
   "source": [
    "#### Cast - Integer & Check NULL Values"
   ]
  },
  {
   "cell_type": "code",
   "execution_count": 7,
   "metadata": {},
   "outputs": [
    {
     "name": "stdout",
     "output_type": "stream",
     "text": [
      "+--------+-----+\n",
      "|movie_id|count|\n",
      "+--------+-----+\n",
      "|    null|  209|\n",
      "|       0|    6|\n",
      "|  132641|    2|\n",
      "|  109962|    2|\n",
      "|   15028|    2|\n",
      "+--------+-----+\n",
      "only showing top 5 rows\n",
      "\n"
     ]
    }
   ],
   "source": [
    "df = df.withColumn(\"movie_id\", col(\"movie_id\").cast(IntegerType()))\n",
    "df.select(\"movie_id\").groupby(\"movie_id\").count().orderBy(col(\"count\").desc()).show(5)"
   ]
  },
  {
   "cell_type": "markdown",
   "metadata": {},
   "source": [
    "#### Drop NULL & Duplicated Values"
   ]
  },
  {
   "cell_type": "code",
   "execution_count": 8,
   "metadata": {},
   "outputs": [
    {
     "name": "stdout",
     "output_type": "stream",
     "text": [
      "+--------+-----+\n",
      "|movie_id|count|\n",
      "+--------+-----+\n",
      "|    4519|    1|\n",
      "|  103902|    1|\n",
      "|   76493|    1|\n",
      "|  125052|    1|\n",
      "|    9465|    1|\n",
      "+--------+-----+\n",
      "only showing top 5 rows\n",
      "\n"
     ]
    }
   ],
   "source": [
    "df = df.na.drop(subset=[\"movie_id\"])\n",
    "df = df.dropDuplicates(subset=[\"movie_id\"])\n",
    "df.select(\"movie_id\").groupby(\"movie_id\").count().orderBy(col(\"count\").desc()).show(5)"
   ]
  },
  {
   "cell_type": "code",
   "execution_count": 9,
   "metadata": {},
   "outputs": [
    {
     "data": {
      "text/plain": [
       "45328"
      ]
     },
     "execution_count": 9,
     "metadata": {},
     "output_type": "execute_result"
    }
   ],
   "source": [
    "df.count()"
   ]
  },
  {
   "cell_type": "markdown",
   "metadata": {},
   "source": [
    "### imdb_id"
   ]
  },
  {
   "cell_type": "code",
   "execution_count": 10,
   "metadata": {},
   "outputs": [
    {
     "name": "stdout",
     "output_type": "stream",
     "text": [
      "+---------+-----+\n",
      "|  imdb_id|count|\n",
      "+---------+-----+\n",
      "|     null|   17|\n",
      "|tt1445202|    1|\n",
      "|tt0127288|    1|\n",
      "|tt0111180|    1|\n",
      "|tt0031448|    1|\n",
      "|tt0119123|    1|\n",
      "|tt0274932|    1|\n",
      "|tt2053378|    1|\n",
      "|tt3230082|    1|\n",
      "|tt0331218|    1|\n",
      "|tt1394259|    1|\n",
      "|tt1568343|    1|\n",
      "|tt0110116|    1|\n",
      "|tt0120815|    1|\n",
      "|tt2290065|    1|\n",
      "|tt0016627|    1|\n",
      "|tt0081573|    1|\n",
      "|tt0069593|    1|\n",
      "|tt0875113|    1|\n",
      "|tt0378215|    1|\n",
      "+---------+-----+\n",
      "only showing top 20 rows\n",
      "\n"
     ]
    }
   ],
   "source": [
    "df.select(\"imdb_id\").groupby(\"imdb_id\").count().orderBy(col(\"count\").desc()).show()"
   ]
  },
  {
   "cell_type": "code",
   "execution_count": 11,
   "metadata": {},
   "outputs": [
    {
     "data": {
      "text/plain": [
       "45309"
      ]
     },
     "execution_count": 11,
     "metadata": {},
     "output_type": "execute_result"
    }
   ],
   "source": [
    "df.select('imdb_id').where(col('imdb_id').like(\"tt%\")).count()"
   ]
  },
  {
   "cell_type": "markdown",
   "metadata": {},
   "source": [
    "#### Filter **like 'tt%'**"
   ]
  },
  {
   "cell_type": "code",
   "execution_count": 12,
   "metadata": {},
   "outputs": [
    {
     "data": {
      "text/plain": [
       "45309"
      ]
     },
     "execution_count": 12,
     "metadata": {},
     "output_type": "execute_result"
    }
   ],
   "source": [
    "df = df.select('*').where(col('imdb_id').like(\"tt%\"))\n",
    "df = df.withColumn(\"imdb_id\", col(\"imdb_id\").cast(StringType()))\n",
    "df.count()"
   ]
  },
  {
   "cell_type": "markdown",
   "metadata": {},
   "source": [
    "## Feature Analysis"
   ]
  },
  {
   "cell_type": "markdown",
   "metadata": {},
   "source": [
    "#### adult - Cast Boolean"
   ]
  },
  {
   "cell_type": "code",
   "execution_count": 13,
   "metadata": {},
   "outputs": [],
   "source": [
    "df = df.withColumn(\"adult\", col(\"adult\").cast(BooleanType()))"
   ]
  },
  {
   "cell_type": "markdown",
   "metadata": {},
   "source": [
    "#### budget - Cast Integer"
   ]
  },
  {
   "cell_type": "code",
   "execution_count": 14,
   "metadata": {},
   "outputs": [],
   "source": [
    "df = df.withColumn(\"budget\", col(\"budget\").cast(IntegerType()))"
   ]
  },
  {
   "cell_type": "markdown",
   "metadata": {},
   "source": [
    "#### genres"
   ]
  },
  {
   "cell_type": "markdown",
   "metadata": {},
   "source": [
    "##### Extract JSON"
   ]
  },
  {
   "cell_type": "code",
   "execution_count": 15,
   "metadata": {},
   "outputs": [],
   "source": [
    "schema = ArrayType(\n",
    "            StructType([\n",
    "                StructField(\"id\", StringType()), \n",
    "                StructField(\"name\", StringType())\n",
    "            ]))\n",
    "\n",
    "df = df.withColumn(\"genres_array\", from_json(df.genres, schema))"
   ]
  },
  {
   "cell_type": "markdown",
   "metadata": {},
   "source": [
    "##### Create **genres** dataframe & **genre_ids** column"
   ]
  },
  {
   "cell_type": "code",
   "execution_count": 16,
   "metadata": {},
   "outputs": [],
   "source": [
    "genres = df.select([\"movie_id\", \"genres_array\"])\n",
    "df = df.withColumn(\"genre_ids\", df.genres_array.id)\n",
    "df = df.withColumn(\"genre_ids\", concat_ws(\",\", col(\"genre_ids\")))"
   ]
  },
  {
   "cell_type": "markdown",
   "metadata": {},
   "source": [
    "### genres df"
   ]
  },
  {
   "cell_type": "code",
   "execution_count": 17,
   "metadata": {},
   "outputs": [
    {
     "name": "stdout",
     "output_type": "stream",
     "text": [
      "root\n",
      " |-- movie_id: integer (nullable = true)\n",
      " |-- genre_id: string (nullable = true)\n",
      " |-- name: string (nullable = true)\n",
      "\n"
     ]
    }
   ],
   "source": [
    "genres = genres.withColumn(\"genres_array\", explode_outer(\"genres_array\"))\n",
    "genres = genres.select([\"movie_id\", \"genres_array.*\"])\n",
    "genres = genres.withColumnRenamed(\"id\", \"genre_id\")\n",
    "genres.printSchema()"
   ]
  },
  {
   "cell_type": "markdown",
   "metadata": {},
   "source": [
    "#### homepage - Filter **startswith(\"http://\")) | (df.homepage.startswith(\"https://\")**"
   ]
  },
  {
   "cell_type": "code",
   "execution_count": 18,
   "metadata": {},
   "outputs": [],
   "source": [
    "fltr = (df.homepage.startswith(\"http://\")) | (df.homepage.startswith(\"https://\"))\n",
    "df = df.withColumn(\"homepage\", when(fltr, df.homepage).otherwise(None))"
   ]
  },
  {
   "cell_type": "markdown",
   "metadata": {},
   "source": [
    "#### original_language - Filter by **string length == 2**"
   ]
  },
  {
   "cell_type": "code",
   "execution_count": 19,
   "metadata": {},
   "outputs": [
    {
     "name": "stdout",
     "output_type": "stream",
     "text": [
      "+-------+-----+\n",
      "|str_len|count|\n",
      "+-------+-----+\n",
      "|      2|45298|\n",
      "|   null|   11|\n",
      "+-------+-----+\n",
      "\n"
     ]
    }
   ],
   "source": [
    "df.select(\"original_language\").withColumn(\"str_len\", length('original_language')) \\\n",
    "  .groupby(\"str_len\").count().orderBy(col(\"count\").desc()).show(5)"
   ]
  },
  {
   "cell_type": "code",
   "execution_count": 20,
   "metadata": {},
   "outputs": [],
   "source": [
    "fltr = (length(df.original_language) == 2)\n",
    "df = df.withColumn(\"original_language\", when(fltr, df.original_language).otherwise(None))"
   ]
  },
  {
   "cell_type": "markdown",
   "metadata": {},
   "source": [
    "#### popularity - Cast Float"
   ]
  },
  {
   "cell_type": "code",
   "execution_count": 21,
   "metadata": {},
   "outputs": [],
   "source": [
    "df = df.withColumn(\"popularity\", col(\"popularity\").cast(FloatType()))"
   ]
  },
  {
   "cell_type": "markdown",
   "metadata": {},
   "source": [
    "#### production_companies"
   ]
  },
  {
   "cell_type": "markdown",
   "metadata": {},
   "source": [
    "##### Extract JSON"
   ]
  },
  {
   "cell_type": "code",
   "execution_count": 22,
   "metadata": {},
   "outputs": [],
   "source": [
    "schema = ArrayType(\n",
    "            StructType([\n",
    "                StructField(\"id\", StringType()), \n",
    "                StructField(\"name\", StringType())\n",
    "            ]))\n",
    "\n",
    "df = df.withColumn(\"production_companies_array\", from_json(df.production_companies, schema))"
   ]
  },
  {
   "cell_type": "markdown",
   "metadata": {},
   "source": [
    "##### Create **production_companies** dataframe & **production_companies_ids** column"
   ]
  },
  {
   "cell_type": "code",
   "execution_count": 23,
   "metadata": {},
   "outputs": [],
   "source": [
    "production_companies = df.select([\"movie_id\", \"production_companies_array\"])\n",
    "df = df.withColumn(\"production_companies_ids\", df.production_companies_array.id)\n",
    "df = df.withColumn(\"production_companies_ids\", concat_ws(\",\", col(\"production_companies_ids\")))"
   ]
  },
  {
   "cell_type": "markdown",
   "metadata": {},
   "source": [
    "### production_companies df"
   ]
  },
  {
   "cell_type": "code",
   "execution_count": 24,
   "metadata": {},
   "outputs": [
    {
     "name": "stdout",
     "output_type": "stream",
     "text": [
      "root\n",
      " |-- movie_id: integer (nullable = true)\n",
      " |-- production_companies_id: string (nullable = true)\n",
      " |-- name: string (nullable = true)\n",
      "\n"
     ]
    }
   ],
   "source": [
    "production_companies = production_companies.withColumn(\"production_companies_array\", \\\n",
    "                       explode_outer(\"production_companies_array\"))\n",
    "\n",
    "production_companies = production_companies.select([\"movie_id\", \"production_companies_array.*\"])\n",
    "production_companies = production_companies.withColumnRenamed(\"id\", \"production_companies_id\")\n",
    "production_companies.printSchema()"
   ]
  },
  {
   "cell_type": "markdown",
   "metadata": {},
   "source": [
    "#### production_countries"
   ]
  },
  {
   "cell_type": "markdown",
   "metadata": {},
   "source": [
    "##### Extract JSON"
   ]
  },
  {
   "cell_type": "code",
   "execution_count": 25,
   "metadata": {},
   "outputs": [],
   "source": [
    "schema = ArrayType(\n",
    "            StructType([\n",
    "                StructField(\"iso_3166_1\", StringType()), \n",
    "                StructField(\"name\", StringType())\n",
    "            ]))\n",
    "\n",
    "df = df.withColumn(\"production_countries_array\", from_json(df.production_countries, schema))"
   ]
  },
  {
   "cell_type": "markdown",
   "metadata": {},
   "source": [
    "##### Create **production_countries** dataframe & **production_countries_abbvs** column"
   ]
  },
  {
   "cell_type": "code",
   "execution_count": 26,
   "metadata": {},
   "outputs": [],
   "source": [
    "production_countries = df.select([\"movie_id\", \"production_countries_array\"])\n",
    "df = df.withColumn(\"production_countries_abbvs\", df.production_countries_array.iso_3166_1)\n",
    "df = df.withColumn(\"production_countries_abbvs\", concat_ws(\",\", col(\"production_countries_abbvs\")))"
   ]
  },
  {
   "cell_type": "markdown",
   "metadata": {},
   "source": [
    "### production_countries df"
   ]
  },
  {
   "cell_type": "code",
   "execution_count": 27,
   "metadata": {},
   "outputs": [
    {
     "name": "stdout",
     "output_type": "stream",
     "text": [
      "root\n",
      " |-- movie_id: integer (nullable = true)\n",
      " |-- production_countries_abbv: string (nullable = true)\n",
      " |-- name: string (nullable = true)\n",
      "\n"
     ]
    }
   ],
   "source": [
    "production_countries = production_countries.withColumn(\"production_countries_array\", \\\n",
    "                       explode_outer(\"production_countries_array\"))\n",
    "\n",
    "production_countries = production_countries.select([\"movie_id\", \"production_countries_array.*\"])\n",
    "production_countries = production_countries.withColumnRenamed(\"iso_3166_1\", \"production_countries_abbv\")\n",
    "production_countries.printSchema()"
   ]
  },
  {
   "cell_type": "markdown",
   "metadata": {},
   "source": [
    "#### release_date - Timestamp & Cast Date"
   ]
  },
  {
   "cell_type": "code",
   "execution_count": 28,
   "metadata": {},
   "outputs": [],
   "source": [
    "df = df.withColumn(\"release_date\", to_timestamp(df.release_date, 'yyyy-MM-dd'))\n",
    "df = df.withColumn(\"release_date\", col(\"release_date\").cast(DateType()))"
   ]
  },
  {
   "cell_type": "markdown",
   "metadata": {},
   "source": [
    "#### revenue - Cast Integer"
   ]
  },
  {
   "cell_type": "code",
   "execution_count": 29,
   "metadata": {},
   "outputs": [],
   "source": [
    "df = df.withColumn(\"revenue\", col(\"runtime\").cast(IntegerType()))"
   ]
  },
  {
   "cell_type": "markdown",
   "metadata": {},
   "source": [
    "#### runtime - Cast Integer"
   ]
  },
  {
   "cell_type": "code",
   "execution_count": 30,
   "metadata": {},
   "outputs": [],
   "source": [
    "df = df.withColumn(\"runtime\", col(\"runtime\").cast(IntegerType()))"
   ]
  },
  {
   "cell_type": "markdown",
   "metadata": {},
   "source": [
    "#### spoken_languages"
   ]
  },
  {
   "cell_type": "markdown",
   "metadata": {},
   "source": [
    "##### Extract JSON"
   ]
  },
  {
   "cell_type": "code",
   "execution_count": 31,
   "metadata": {},
   "outputs": [],
   "source": [
    "schema = ArrayType(\n",
    "            StructType([\n",
    "                StructField(\"iso_639_1\", StringType()), \n",
    "                StructField(\"name\", StringType())\n",
    "            ]))\n",
    "\n",
    "df = df.withColumn(\"spoken_languages_array\", from_json(df.spoken_languages, schema))"
   ]
  },
  {
   "cell_type": "markdown",
   "metadata": {},
   "source": [
    "##### Create **spoken_languages** dataframe & **spoken_languages_abbvs** column"
   ]
  },
  {
   "cell_type": "code",
   "execution_count": 32,
   "metadata": {},
   "outputs": [],
   "source": [
    "spoken_languages = df.select([\"movie_id\", \"spoken_languages_array\"])\n",
    "df = df.withColumn(\"spoken_languages_abbvs\", df.spoken_languages_array.iso_639_1)\n",
    "df = df.withColumn(\"spoken_languages_abbvs\", concat_ws(\",\", col(\"spoken_languages_abbvs\")))"
   ]
  },
  {
   "cell_type": "markdown",
   "metadata": {},
   "source": [
    "### spoken_languages df"
   ]
  },
  {
   "cell_type": "code",
   "execution_count": 33,
   "metadata": {},
   "outputs": [
    {
     "name": "stdout",
     "output_type": "stream",
     "text": [
      "root\n",
      " |-- movie_id: integer (nullable = true)\n",
      " |-- spoken_languages_abbv: string (nullable = true)\n",
      " |-- name: string (nullable = true)\n",
      "\n"
     ]
    }
   ],
   "source": [
    "spoken_languages = spoken_languages.withColumn(\"spoken_languages_array\", \\\n",
    "                   explode_outer(\"spoken_languages_array\"))\n",
    "\n",
    "spoken_languages = spoken_languages.select([\"movie_id\", \"spoken_languages_array.*\"])\n",
    "spoken_languages = spoken_languages.withColumnRenamed(\"iso_639_1\", \"spoken_languages_abbv\")\n",
    "spoken_languages.printSchema()"
   ]
  },
  {
   "cell_type": "markdown",
   "metadata": {},
   "source": [
    "#### status - Filter **== (\"Released\")) | == (\"Rumored\")**"
   ]
  },
  {
   "cell_type": "code",
   "execution_count": 34,
   "metadata": {},
   "outputs": [],
   "source": [
    "df = df.withColumn(\"status\", \\\n",
    "     when(((df.status == \"Released\") | (df.status == \"Rumored\")), df.status).otherwise(None))"
   ]
  },
  {
   "cell_type": "markdown",
   "metadata": {},
   "source": [
    "#### video - Filter **== (\"Released\")) | == (\"True\")** & Cast Boolean"
   ]
  },
  {
   "cell_type": "code",
   "execution_count": 35,
   "metadata": {},
   "outputs": [],
   "source": [
    "df = df.withColumn(\"video\", \\\n",
    "              when(((df.video == \"Released\") | (df.video == \"True\")), True) \\\n",
    "              .otherwise(False))\n",
    "\n",
    "df = df.withColumn(\"video\", col(\"video\").cast(BooleanType()))"
   ]
  },
  {
   "cell_type": "markdown",
   "metadata": {},
   "source": [
    "#### vote_average - Cast Float"
   ]
  },
  {
   "cell_type": "code",
   "execution_count": 36,
   "metadata": {},
   "outputs": [],
   "source": [
    "df = df.withColumn(\"vote_average\", col(\"vote_average\").cast(FloatType()))"
   ]
  },
  {
   "cell_type": "markdown",
   "metadata": {},
   "source": [
    "#### vote_count - Cast Integer"
   ]
  },
  {
   "cell_type": "code",
   "execution_count": 37,
   "metadata": {},
   "outputs": [],
   "source": [
    "df = df.withColumn(\"vote_count\", col(\"vote_count\").cast(IntegerType()))"
   ]
  },
  {
   "cell_type": "markdown",
   "metadata": {},
   "source": [
    "#### release_month & release_year"
   ]
  },
  {
   "cell_type": "code",
   "execution_count": 38,
   "metadata": {},
   "outputs": [],
   "source": [
    "df = df.withColumn(\"release_month\", month(\"release_date\"))\n",
    "df = df.withColumn(\"release_year\", year(\"release_date\"))"
   ]
  },
  {
   "cell_type": "markdown",
   "metadata": {},
   "source": [
    "## DataFrame Check"
   ]
  },
  {
   "cell_type": "markdown",
   "metadata": {},
   "source": [
    "### Movies"
   ]
  },
  {
   "cell_type": "code",
   "execution_count": 40,
   "metadata": {},
   "outputs": [
    {
     "data": {
      "text/plain": [
       "[Row(adult=False, belongs_to_collection=None, budget=5000000, genres=\"[{'id': 18, 'name': 'Drama'}, {'id': 10749, 'name': 'Romance'}]\", homepage=None, movie_id=148, imdb_id='tt0430576', original_language='en', original_title='The Secret Life of Words', overview='A touching story of a deaf girl who is sent to an oil rig to take care of a man who has been blinded in a terrible accident. The girl has a special ability to communicate with the men on board and especially with her patient as they share intimate moments together that will change their lives forever.', popularity=12.775583267211914, poster_path='/rlJWRiW74PAIrozd2d6X7e61Rq9.jpg', production_companies=\"[{'name': 'Hotshot Films', 'id': 78}]\", production_countries=\"[{'iso_3166_1': 'ES', 'name': 'Spain'}]\", release_date=datetime.date(2005, 12, 15), revenue=112, runtime=112, spoken_languages=\"[{'iso_639_1': 'en', 'name': 'English'}, {'iso_639_1': 'fr', 'name': 'Français'}, {'iso_639_1': 'es', 'name': 'Español'}]\", status='Released', tagline=None, title='The Secret Life of Words', video=False, vote_average=6.800000190734863, vote_count=52, genres_array=[Row(id='18', name='Drama'), Row(id='10749', name='Romance')], genre_ids='18,10749', production_companies_array=[Row(id='78', name='Hotshot Films')], production_companies_ids='78', production_countries_array=[Row(iso_3166_1='ES', name='Spain')], production_countries_abbvs='ES', spoken_languages_array=[Row(iso_639_1='en', name='English'), Row(iso_639_1='fr', name='Français'), Row(iso_639_1='es', name='Español')], spoken_languages_abbvs='en,fr,es', release_month=12, release_year=2005),\n",
       " Row(adult=False, belongs_to_collection=None, budget=0, genres=\"[{'id': 18, 'name': 'Drama'}]\", homepage=None, movie_id=471, imdb_id='tt0129774', original_language='en', original_title='Bandyta', overview='Bastard depicts the distress of needy children and the love of a nurse and a hard boiled criminal. A film from Polish director Maciej Dejczer and actor Til Schweiger’s first international film.', popularity=0.7074909806251526, poster_path='/73d8HxtublBXQDhHuhtQ8ysOYUe.jpg', production_companies=\"[{'name': 'Douek Productions', 'id': 259}]\", production_countries=\"[{'iso_3166_1': 'DE', 'name': 'Germany'}, {'iso_3166_1': 'FR', 'name': 'France'}, {'iso_3166_1': 'PL', 'name': 'Poland'}]\", release_date=datetime.date(1997, 1, 1), revenue=102, runtime=102, spoken_languages=\"[{'iso_639_1': 'pl', 'name': 'Polski'}, {'iso_639_1': 'en', 'name': 'English'}]\", status='Released', tagline=None, title='Bandyta', video=False, vote_average=6.300000190734863, vote_count=3, genres_array=[Row(id='18', name='Drama')], genre_ids='18', production_companies_array=[Row(id='259', name='Douek Productions')], production_companies_ids='259', production_countries_array=[Row(iso_3166_1='DE', name='Germany'), Row(iso_3166_1='FR', name='France'), Row(iso_3166_1='PL', name='Poland')], production_countries_abbvs='DE,FR,PL', spoken_languages_array=[Row(iso_639_1='pl', name='Polski'), Row(iso_639_1='en', name='English')], spoken_languages_abbvs='pl,en', release_month=1, release_year=1997)]"
      ]
     },
     "execution_count": 40,
     "metadata": {},
     "output_type": "execute_result"
    }
   ],
   "source": [
    "df.limit(2).collect()"
   ]
  },
  {
   "cell_type": "code",
   "execution_count": 41,
   "metadata": {},
   "outputs": [
    {
     "name": "stdout",
     "output_type": "stream",
     "text": [
      "root\n",
      " |-- adult: boolean (nullable = true)\n",
      " |-- belongs_to_collection: string (nullable = true)\n",
      " |-- budget: integer (nullable = true)\n",
      " |-- genres: string (nullable = true)\n",
      " |-- homepage: string (nullable = true)\n",
      " |-- movie_id: integer (nullable = true)\n",
      " |-- imdb_id: string (nullable = true)\n",
      " |-- original_language: string (nullable = true)\n",
      " |-- original_title: string (nullable = true)\n",
      " |-- overview: string (nullable = true)\n",
      " |-- popularity: float (nullable = true)\n",
      " |-- poster_path: string (nullable = true)\n",
      " |-- production_companies: string (nullable = true)\n",
      " |-- production_countries: string (nullable = true)\n",
      " |-- release_date: date (nullable = true)\n",
      " |-- revenue: integer (nullable = true)\n",
      " |-- runtime: integer (nullable = true)\n",
      " |-- spoken_languages: string (nullable = true)\n",
      " |-- status: string (nullable = true)\n",
      " |-- tagline: string (nullable = true)\n",
      " |-- title: string (nullable = true)\n",
      " |-- video: boolean (nullable = false)\n",
      " |-- vote_average: float (nullable = true)\n",
      " |-- vote_count: integer (nullable = true)\n",
      " |-- genres_array: array (nullable = true)\n",
      " |    |-- element: struct (containsNull = true)\n",
      " |    |    |-- id: string (nullable = true)\n",
      " |    |    |-- name: string (nullable = true)\n",
      " |-- genre_ids: string (nullable = false)\n",
      " |-- production_companies_array: array (nullable = true)\n",
      " |    |-- element: struct (containsNull = true)\n",
      " |    |    |-- id: string (nullable = true)\n",
      " |    |    |-- name: string (nullable = true)\n",
      " |-- production_companies_ids: string (nullable = false)\n",
      " |-- production_countries_array: array (nullable = true)\n",
      " |    |-- element: struct (containsNull = true)\n",
      " |    |    |-- iso_3166_1: string (nullable = true)\n",
      " |    |    |-- name: string (nullable = true)\n",
      " |-- production_countries_abbvs: string (nullable = false)\n",
      " |-- spoken_languages_array: array (nullable = true)\n",
      " |    |-- element: struct (containsNull = true)\n",
      " |    |    |-- iso_639_1: string (nullable = true)\n",
      " |    |    |-- name: string (nullable = true)\n",
      " |-- spoken_languages_abbvs: string (nullable = false)\n",
      " |-- release_month: integer (nullable = true)\n",
      " |-- release_year: integer (nullable = true)\n",
      "\n"
     ]
    }
   ],
   "source": [
    "df.printSchema()"
   ]
  },
  {
   "cell_type": "code",
   "execution_count": 42,
   "metadata": {},
   "outputs": [],
   "source": [
    "drop_cols = [\"genres_array\", \n",
    "             \"production_companies_array\", \n",
    "             \"production_countries_array\", \n",
    "             \"spoken_languages_array\"]\n",
    "\n",
    "df = df.drop(*drop_cols)"
   ]
  },
  {
   "cell_type": "code",
   "execution_count": 43,
   "metadata": {},
   "outputs": [
    {
     "data": {
      "text/plain": [
       "DataFrame[adult: boolean, belongs_to_collection: string, budget: int, genres: string, homepage: string, movie_id: int, imdb_id: string, original_language: string, original_title: string, overview: string, popularity: float, poster_path: string, production_companies: string, production_countries: string, release_date: date, revenue: int, runtime: int, spoken_languages: string, status: string, tagline: string, title: string, video: boolean, vote_average: float, vote_count: int, genre_ids: string, production_companies_ids: string, production_countries_abbvs: string, spoken_languages_abbvs: string, release_month: int, release_year: int]"
      ]
     },
     "execution_count": 43,
     "metadata": {},
     "output_type": "execute_result"
    }
   ],
   "source": [
    "df"
   ]
  },
  {
   "cell_type": "code",
   "execution_count": 45,
   "metadata": {},
   "outputs": [],
   "source": [
    "df.write.partitionBy(\"release_year\", \"release_month\").parquet('../data/processed/movies/')"
   ]
  }
 ],
 "metadata": {
  "kernelspec": {
   "display_name": "Python 3",
   "language": "python",
   "name": "python3"
  },
  "language_info": {
   "codemirror_mode": {
    "name": "ipython",
    "version": 3
   },
   "file_extension": ".py",
   "mimetype": "text/x-python",
   "name": "python",
   "nbconvert_exporter": "python",
   "pygments_lexer": "ipython3",
   "version": "3.8.5"
  }
 },
 "nbformat": 4,
 "nbformat_minor": 4
}
