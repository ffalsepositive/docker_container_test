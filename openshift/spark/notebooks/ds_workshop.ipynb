{
 "cells": [
  {
   "cell_type": "markdown",
   "id": "thousand-plane",
   "metadata": {},
   "source": [
    "### Load Data"
   ]
  },
  {
   "cell_type": "code",
   "execution_count": 416,
   "id": "hollywood-design",
   "metadata": {},
   "outputs": [],
   "source": [
    "import pandas as pd\n",
    "import matplotlib.pyplot as plt\n",
    "import seaborn as sns\n",
    "\n",
    "from sklearn.metrics import classification_report, confusion_matrix\n",
    "from sklearn import datasets\n",
    "from sklearn.linear_model import LogisticRegression\n",
    "from sklearn.model_selection import train_test_split\n",
    "\n",
    "data = datasets.load_digits()\n",
    "X = pd.DataFrame(data.data, columns=data.feature_names)\n",
    "y = pd.Series(data.target).rename(\"target\")"
   ]
  },
  {
   "cell_type": "code",
   "execution_count": 417,
   "id": "polished-retro",
   "metadata": {},
   "outputs": [],
   "source": [
    "X_train, X_test, y_train, y_test = train_test_split(X, y, test_size=0.2, random_state=42)"
   ]
  },
  {
   "cell_type": "code",
   "execution_count": 418,
   "id": "preliminary-conjunction",
   "metadata": {},
   "outputs": [
    {
     "name": "stdout",
     "output_type": "stream",
     "text": [
      "Train: X=(1437, 64), y=(360, 64)\n",
      "Test:  X=(360, 64), y=(360,)\n"
     ]
    }
   ],
   "source": [
    "print('Train: X=%s, y=%s' % (X_train.shape, X_test.shape))\n",
    "print('Test:  X=%s, y=%s' % (X_test.shape, y_test.shape))"
   ]
  },
  {
   "cell_type": "code",
   "execution_count": 419,
   "id": "moral-zambia",
   "metadata": {},
   "outputs": [],
   "source": [
    "images = X_train.values.reshape(len(X_train), 8, 8)"
   ]
  },
  {
   "cell_type": "code",
   "execution_count": 420,
   "id": "democratic-generation",
   "metadata": {},
   "outputs": [
    {
     "data": {
      "image/png": "[encoded data removed]",
      "text/plain": [
       "<Figure size 720x720 with 9 Axes>"
      ]
     },
     "metadata": {
      "needs_background": "light"
     },
     "output_type": "display_data"
    }
   ],
   "source": [
    "fig, ax = plt.subplots(nrows=3, ncols=3, figsize=(10, 10))\n",
    "for i in range(3):\n",
    "    for j in range(3):\n",
    "        ax[i][j].imshow(images[3*i+j], cmap=\"gray\")"
   ]
  },
  {
   "cell_type": "markdown",
   "id": "numerical-hazard",
   "metadata": {},
   "source": [
    "### Metrics"
   ]
  },
  {
   "cell_type": "markdown",
   "id": "remarkable-burns",
   "metadata": {},
   "source": [
    "<img src=\"https://miro.medium.com/max/1126/1*NhPwqJdAyHWllpeHAqrL_g.png\">"
   ]
  },
  {
   "cell_type": "code",
   "execution_count": 421,
   "id": "selected-campaign",
   "metadata": {},
   "outputs": [
    {
     "data": {
      "text/plain": [
       "5    47\n",
       "4    46\n",
       "9    40\n",
       "6    35\n",
       "3    34\n",
       "7    34\n",
       "0    33\n",
       "2    33\n",
       "8    30\n",
       "1    28\n",
       "Name: target, dtype: int64"
      ]
     },
     "execution_count": 421,
     "metadata": {},
     "output_type": "execute_result"
    }
   ],
   "source": [
    "y_test.value_counts()"
   ]
  },
  {
   "cell_type": "markdown",
   "id": "proprietary-conditions",
   "metadata": {},
   "source": [
    "### Basic Model"
   ]
  },
  {
   "cell_type": "code",
   "execution_count": 422,
   "id": "complex-thousand",
   "metadata": {},
   "outputs": [],
   "source": [
    "df = X_train.copy()\n",
    "df[\"label\"] = y_train.copy()\n",
    "\n",
    "avg_table = df.groupby([\"label\"]).mean()"
   ]
  },
  {
   "cell_type": "code",
   "execution_count": 423,
   "id": "labeled-clear",
   "metadata": {},
   "outputs": [
    {
     "data": {
      "text/html": [
       "<div>\n",
       "<style scoped>\n",
       "    .dataframe tbody tr th:only-of-type {\n",
       "        vertical-align: middle;\n",
       "    }\n",
       "\n",
       "    .dataframe tbody tr th {\n",
       "        vertical-align: top;\n",
       "    }\n",
       "\n",
       "    .dataframe thead th {\n",
       "        text-align: right;\n",
       "    }\n",
       "</style>\n",
       "<table border=\"1\" class=\"dataframe\">\n",
       "  <thead>\n",
       "    <tr style=\"text-align: right;\">\n",
       "      <th></th>\n",
       "      <th>pixel_0_0</th>\n",
       "      <th>pixel_0_1</th>\n",
       "      <th>pixel_0_2</th>\n",
       "      <th>pixel_0_3</th>\n",
       "      <th>pixel_0_4</th>\n",
       "      <th>pixel_0_5</th>\n",
       "      <th>pixel_0_6</th>\n",
       "      <th>pixel_0_7</th>\n",
       "      <th>pixel_1_0</th>\n",
       "      <th>pixel_1_1</th>\n",
       "      <th>...</th>\n",
       "      <th>pixel_6_6</th>\n",
       "      <th>pixel_6_7</th>\n",
       "      <th>pixel_7_0</th>\n",
       "      <th>pixel_7_1</th>\n",
       "      <th>pixel_7_2</th>\n",
       "      <th>pixel_7_3</th>\n",
       "      <th>pixel_7_4</th>\n",
       "      <th>pixel_7_5</th>\n",
       "      <th>pixel_7_6</th>\n",
       "      <th>pixel_7_7</th>\n",
       "    </tr>\n",
       "    <tr>\n",
       "      <th>label</th>\n",
       "      <th></th>\n",
       "      <th></th>\n",
       "      <th></th>\n",
       "      <th></th>\n",
       "      <th></th>\n",
       "      <th></th>\n",
       "      <th></th>\n",
       "      <th></th>\n",
       "      <th></th>\n",
       "      <th></th>\n",
       "      <th></th>\n",
       "      <th></th>\n",
       "      <th></th>\n",
       "      <th></th>\n",
       "      <th></th>\n",
       "      <th></th>\n",
       "      <th></th>\n",
       "      <th></th>\n",
       "      <th></th>\n",
       "      <th></th>\n",
       "      <th></th>\n",
       "    </tr>\n",
       "  </thead>\n",
       "  <tbody>\n",
       "    <tr>\n",
       "      <th>0</th>\n",
       "      <td>0.0</td>\n",
       "      <td>0.013793</td>\n",
       "      <td>4.158621</td>\n",
       "      <td>13.131034</td>\n",
       "      <td>11.572414</td>\n",
       "      <td>3.151724</td>\n",
       "      <td>0.041379</td>\n",
       "      <td>0.000000</td>\n",
       "      <td>0.000000</td>\n",
       "      <td>0.875862</td>\n",
       "      <td>...</td>\n",
       "      <td>2.351724</td>\n",
       "      <td>0.000000</td>\n",
       "      <td>0.000000</td>\n",
       "      <td>0.000000</td>\n",
       "      <td>4.110345</td>\n",
       "      <td>13.634483</td>\n",
       "      <td>13.455172</td>\n",
       "      <td>5.351724</td>\n",
       "      <td>0.220690</td>\n",
       "      <td>0.000000</td>\n",
       "    </tr>\n",
       "    <tr>\n",
       "      <th>1</th>\n",
       "      <td>0.0</td>\n",
       "      <td>0.012987</td>\n",
       "      <td>2.435065</td>\n",
       "      <td>9.155844</td>\n",
       "      <td>10.512987</td>\n",
       "      <td>6.227273</td>\n",
       "      <td>0.987013</td>\n",
       "      <td>0.000000</td>\n",
       "      <td>0.000000</td>\n",
       "      <td>0.090909</td>\n",
       "      <td>...</td>\n",
       "      <td>2.090909</td>\n",
       "      <td>0.623377</td>\n",
       "      <td>0.000000</td>\n",
       "      <td>0.006494</td>\n",
       "      <td>2.253247</td>\n",
       "      <td>9.019481</td>\n",
       "      <td>13.051948</td>\n",
       "      <td>8.409091</td>\n",
       "      <td>2.915584</td>\n",
       "      <td>1.389610</td>\n",
       "    </tr>\n",
       "    <tr>\n",
       "      <th>2</th>\n",
       "      <td>0.0</td>\n",
       "      <td>0.979167</td>\n",
       "      <td>9.840278</td>\n",
       "      <td>14.173611</td>\n",
       "      <td>9.458333</td>\n",
       "      <td>2.555556</td>\n",
       "      <td>0.125000</td>\n",
       "      <td>0.000000</td>\n",
       "      <td>0.013889</td>\n",
       "      <td>5.263889</td>\n",
       "      <td>...</td>\n",
       "      <td>7.076389</td>\n",
       "      <td>0.583333</td>\n",
       "      <td>0.006944</td>\n",
       "      <td>0.958333</td>\n",
       "      <td>10.305556</td>\n",
       "      <td>14.027778</td>\n",
       "      <td>13.312500</td>\n",
       "      <td>12.006944</td>\n",
       "      <td>8.305556</td>\n",
       "      <td>2.006944</td>\n",
       "    </tr>\n",
       "    <tr>\n",
       "      <th>3</th>\n",
       "      <td>0.0</td>\n",
       "      <td>0.718121</td>\n",
       "      <td>8.483221</td>\n",
       "      <td>14.167785</td>\n",
       "      <td>14.275168</td>\n",
       "      <td>7.590604</td>\n",
       "      <td>0.785235</td>\n",
       "      <td>0.006711</td>\n",
       "      <td>0.013423</td>\n",
       "      <td>4.355705</td>\n",
       "      <td>...</td>\n",
       "      <td>6.013423</td>\n",
       "      <td>0.040268</td>\n",
       "      <td>0.000000</td>\n",
       "      <td>0.550336</td>\n",
       "      <td>9.375839</td>\n",
       "      <td>14.550336</td>\n",
       "      <td>13.704698</td>\n",
       "      <td>8.489933</td>\n",
       "      <td>1.442953</td>\n",
       "      <td>0.026846</td>\n",
       "    </tr>\n",
       "    <tr>\n",
       "      <th>4</th>\n",
       "      <td>0.0</td>\n",
       "      <td>0.000000</td>\n",
       "      <td>0.429630</td>\n",
       "      <td>7.029630</td>\n",
       "      <td>11.614815</td>\n",
       "      <td>2.148148</td>\n",
       "      <td>0.237037</td>\n",
       "      <td>0.170370</td>\n",
       "      <td>0.000000</td>\n",
       "      <td>0.074074</td>\n",
       "      <td>...</td>\n",
       "      <td>0.029630</td>\n",
       "      <td>0.000000</td>\n",
       "      <td>0.000000</td>\n",
       "      <td>0.029630</td>\n",
       "      <td>0.525926</td>\n",
       "      <td>7.748148</td>\n",
       "      <td>12.007407</td>\n",
       "      <td>2.007407</td>\n",
       "      <td>0.000000</td>\n",
       "      <td>0.000000</td>\n",
       "    </tr>\n",
       "    <tr>\n",
       "      <th>5</th>\n",
       "      <td>0.0</td>\n",
       "      <td>1.044444</td>\n",
       "      <td>10.348148</td>\n",
       "      <td>13.037037</td>\n",
       "      <td>13.748148</td>\n",
       "      <td>11.948148</td>\n",
       "      <td>4.170370</td>\n",
       "      <td>0.051852</td>\n",
       "      <td>0.007407</td>\n",
       "      <td>4.118519</td>\n",
       "      <td>...</td>\n",
       "      <td>1.229630</td>\n",
       "      <td>0.000000</td>\n",
       "      <td>0.000000</td>\n",
       "      <td>1.007407</td>\n",
       "      <td>10.866667</td>\n",
       "      <td>14.792593</td>\n",
       "      <td>9.118519</td>\n",
       "      <td>2.185185</td>\n",
       "      <td>0.133333</td>\n",
       "      <td>0.000000</td>\n",
       "    </tr>\n",
       "    <tr>\n",
       "      <th>6</th>\n",
       "      <td>0.0</td>\n",
       "      <td>0.000000</td>\n",
       "      <td>1.075342</td>\n",
       "      <td>11.047945</td>\n",
       "      <td>9.863014</td>\n",
       "      <td>1.554795</td>\n",
       "      <td>0.013699</td>\n",
       "      <td>0.000000</td>\n",
       "      <td>0.000000</td>\n",
       "      <td>0.041096</td>\n",
       "      <td>...</td>\n",
       "      <td>10.664384</td>\n",
       "      <td>0.589041</td>\n",
       "      <td>0.000000</td>\n",
       "      <td>0.000000</td>\n",
       "      <td>1.335616</td>\n",
       "      <td>10.616438</td>\n",
       "      <td>15.082192</td>\n",
       "      <td>13.109589</td>\n",
       "      <td>4.472603</td>\n",
       "      <td>0.102740</td>\n",
       "    </tr>\n",
       "    <tr>\n",
       "      <th>7</th>\n",
       "      <td>0.0</td>\n",
       "      <td>0.117241</td>\n",
       "      <td>4.979310</td>\n",
       "      <td>13.013793</td>\n",
       "      <td>14.220690</td>\n",
       "      <td>11.020690</td>\n",
       "      <td>5.393103</td>\n",
       "      <td>1.075862</td>\n",
       "      <td>0.000000</td>\n",
       "      <td>0.931034</td>\n",
       "      <td>...</td>\n",
       "      <td>0.000000</td>\n",
       "      <td>0.000000</td>\n",
       "      <td>0.000000</td>\n",
       "      <td>0.089655</td>\n",
       "      <td>6.289655</td>\n",
       "      <td>11.834483</td>\n",
       "      <td>2.289655</td>\n",
       "      <td>0.013793</td>\n",
       "      <td>0.000000</td>\n",
       "      <td>0.000000</td>\n",
       "    </tr>\n",
       "    <tr>\n",
       "      <th>8</th>\n",
       "      <td>0.0</td>\n",
       "      <td>0.138889</td>\n",
       "      <td>5.097222</td>\n",
       "      <td>11.590278</td>\n",
       "      <td>12.465278</td>\n",
       "      <td>6.277778</td>\n",
       "      <td>0.506944</td>\n",
       "      <td>0.000000</td>\n",
       "      <td>0.020833</td>\n",
       "      <td>1.951389</td>\n",
       "      <td>...</td>\n",
       "      <td>2.347222</td>\n",
       "      <td>0.006944</td>\n",
       "      <td>0.000000</td>\n",
       "      <td>0.152778</td>\n",
       "      <td>5.090278</td>\n",
       "      <td>12.694444</td>\n",
       "      <td>13.083333</td>\n",
       "      <td>6.729167</td>\n",
       "      <td>1.097222</td>\n",
       "      <td>0.013889</td>\n",
       "    </tr>\n",
       "    <tr>\n",
       "      <th>9</th>\n",
       "      <td>0.0</td>\n",
       "      <td>0.114286</td>\n",
       "      <td>5.607143</td>\n",
       "      <td>11.742857</td>\n",
       "      <td>11.285714</td>\n",
       "      <td>6.050000</td>\n",
       "      <td>1.678571</td>\n",
       "      <td>0.150000</td>\n",
       "      <td>0.000000</td>\n",
       "      <td>2.242857</td>\n",
       "      <td>...</td>\n",
       "      <td>5.271429</td>\n",
       "      <td>0.128571</td>\n",
       "      <td>0.000000</td>\n",
       "      <td>0.064286</td>\n",
       "      <td>5.664286</td>\n",
       "      <td>11.935714</td>\n",
       "      <td>13.164286</td>\n",
       "      <td>8.942857</td>\n",
       "      <td>2.085714</td>\n",
       "      <td>0.050000</td>\n",
       "    </tr>\n",
       "  </tbody>\n",
       "</table>\n",
       "<p>10 rows × 64 columns</p>\n",
       "</div>"
      ],
      "text/plain": [
       "       pixel_0_0  pixel_0_1  pixel_0_2  pixel_0_3  pixel_0_4  pixel_0_5  \\\n",
       "label                                                                     \n",
       "0            0.0   0.013793   4.158621  13.131034  11.572414   3.151724   \n",
       "1            0.0   0.012987   2.435065   9.155844  10.512987   6.227273   \n",
       "2            0.0   0.979167   9.840278  14.173611   9.458333   2.555556   \n",
       "3            0.0   0.718121   8.483221  14.167785  14.275168   7.590604   \n",
       "4            0.0   0.000000   0.429630   7.029630  11.614815   2.148148   \n",
       "5            0.0   1.044444  10.348148  13.037037  13.748148  11.948148   \n",
       "6            0.0   0.000000   1.075342  11.047945   9.863014   1.554795   \n",
       "7            0.0   0.117241   4.979310  13.013793  14.220690  11.020690   \n",
       "8            0.0   0.138889   5.097222  11.590278  12.465278   6.277778   \n",
       "9            0.0   0.114286   5.607143  11.742857  11.285714   6.050000   \n",
       "\n",
       "       pixel_0_6  pixel_0_7  pixel_1_0  pixel_1_1  ...  pixel_6_6  pixel_6_7  \\\n",
       "label                                              ...                         \n",
       "0       0.041379   0.000000   0.000000   0.875862  ...   2.351724   0.000000   \n",
       "1       0.987013   0.000000   0.000000   0.090909  ...   2.090909   0.623377   \n",
       "2       0.125000   0.000000   0.013889   5.263889  ...   7.076389   0.583333   \n",
       "3       0.785235   0.006711   0.013423   4.355705  ...   6.013423   0.040268   \n",
       "4       0.237037   0.170370   0.000000   0.074074  ...   0.029630   0.000000   \n",
       "5       4.170370   0.051852   0.007407   4.118519  ...   1.229630   0.000000   \n",
       "6       0.013699   0.000000   0.000000   0.041096  ...  10.664384   0.589041   \n",
       "7       5.393103   1.075862   0.000000   0.931034  ...   0.000000   0.000000   \n",
       "8       0.506944   0.000000   0.020833   1.951389  ...   2.347222   0.006944   \n",
       "9       1.678571   0.150000   0.000000   2.242857  ...   5.271429   0.128571   \n",
       "\n",
       "       pixel_7_0  pixel_7_1  pixel_7_2  pixel_7_3  pixel_7_4  pixel_7_5  \\\n",
       "label                                                                     \n",
       "0       0.000000   0.000000   4.110345  13.634483  13.455172   5.351724   \n",
       "1       0.000000   0.006494   2.253247   9.019481  13.051948   8.409091   \n",
       "2       0.006944   0.958333  10.305556  14.027778  13.312500  12.006944   \n",
       "3       0.000000   0.550336   9.375839  14.550336  13.704698   8.489933   \n",
       "4       0.000000   0.029630   0.525926   7.748148  12.007407   2.007407   \n",
       "5       0.000000   1.007407  10.866667  14.792593   9.118519   2.185185   \n",
       "6       0.000000   0.000000   1.335616  10.616438  15.082192  13.109589   \n",
       "7       0.000000   0.089655   6.289655  11.834483   2.289655   0.013793   \n",
       "8       0.000000   0.152778   5.090278  12.694444  13.083333   6.729167   \n",
       "9       0.000000   0.064286   5.664286  11.935714  13.164286   8.942857   \n",
       "\n",
       "       pixel_7_6  pixel_7_7  \n",
       "label                        \n",
       "0       0.220690   0.000000  \n",
       "1       2.915584   1.389610  \n",
       "2       8.305556   2.006944  \n",
       "3       1.442953   0.026846  \n",
       "4       0.000000   0.000000  \n",
       "5       0.133333   0.000000  \n",
       "6       4.472603   0.102740  \n",
       "7       0.000000   0.000000  \n",
       "8       1.097222   0.013889  \n",
       "9       2.085714   0.050000  \n",
       "\n",
       "[10 rows x 64 columns]"
      ]
     },
     "execution_count": 423,
     "metadata": {},
     "output_type": "execute_result"
    }
   ],
   "source": [
    "avg_table"
   ]
  },
  {
   "cell_type": "code",
   "execution_count": 424,
   "id": "imposed-signal",
   "metadata": {},
   "outputs": [
    {
     "name": "stdout",
     "output_type": "stream",
     "text": [
      "              precision    recall  f1-score   support\n",
      "\n",
      "           0       0.97      1.00      0.99        33\n",
      "           1       0.73      0.79      0.76        28\n",
      "           2       0.88      0.91      0.90        33\n",
      "           3       0.97      0.94      0.96        34\n",
      "           4       0.98      0.93      0.96        46\n",
      "           5       0.93      0.83      0.88        47\n",
      "           6       0.97      0.97      0.97        35\n",
      "           7       0.92      0.97      0.94        34\n",
      "           8       0.86      0.80      0.83        30\n",
      "           9       0.77      0.85      0.81        40\n",
      "\n",
      "    accuracy                           0.90       360\n",
      "   macro avg       0.90      0.90      0.90       360\n",
      "weighted avg       0.90      0.90      0.90       360\n",
      "\n"
     ]
    },
    {
     "data": {
      "text/plain": [
       "<AxesSubplot:>"
      ]
     },
     "execution_count": 424,
     "metadata": {},
     "output_type": "execute_result"
    },
    {
     "data": {
      "image/png": "[encoded data removed]",
      "text/plain": [
       "<Figure size 576x576 with 1 Axes>"
      ]
     },
     "metadata": {
      "needs_background": "light"
     },
     "output_type": "display_data"
    }
   ],
   "source": [
    "preds = list()\n",
    "\n",
    "for i in range(len(X_test)):\n",
    "    preds.append(((avg_table - X_test.iloc[i])**2).sum(1).argmin())\n",
    "    \n",
    "print(classification_report(y_test.values, preds))\n",
    "\n",
    "conf = confusion_matrix(y_test.values, preds)\n",
    "\n",
    "fig, ax = plt.subplots(figsize=(8,8))\n",
    "sns.heatmap(conf, annot=True, fmt=\"g\", cbar=False, ax=ax, cmap=\"viridis\")"
   ]
  },
  {
   "cell_type": "markdown",
   "id": "victorian-differential",
   "metadata": {},
   "source": [
    "### Show Avg Image"
   ]
  },
  {
   "cell_type": "code",
   "execution_count": 425,
   "id": "approximate-tourism",
   "metadata": {},
   "outputs": [
    {
     "data": {
      "image/png": "[encoded data removed]",
      "text/plain": [
       "<Figure size 576x576 with 10 Axes>"
      ]
     },
     "metadata": {
      "needs_background": "light"
     },
     "output_type": "display_data"
    }
   ],
   "source": [
    "_ = avg_table.astype(int)\n",
    "avg_imgs = _.values.reshape(10,8,8)\n",
    "\n",
    "fig, ax = plt.subplots(nrows=2, ncols=5, figsize=(8, 8))\n",
    "for i in range(2):\n",
    "    for j in range(5):\n",
    "        ax[i][j].imshow(avg_imgs[5*i+j], cmap=\"gray\")\n",
    "        fig.tight_layout(pad=0)"
   ]
  },
  {
   "cell_type": "markdown",
   "id": "acknowledged-cabin",
   "metadata": {},
   "source": [
    "##### Scale & Model\n",
    "\n"
   ]
  },
  {
   "cell_type": "code",
   "execution_count": 426,
   "id": "affecting-commander",
   "metadata": {},
   "outputs": [
    {
     "name": "stdout",
     "output_type": "stream",
     "text": [
      "              precision    recall  f1-score   support\n",
      "\n",
      "           0       0.97      1.00      0.99        33\n",
      "           1       0.73      0.79      0.76        28\n",
      "           2       0.88      0.91      0.90        33\n",
      "           3       0.97      0.94      0.96        34\n",
      "           4       0.98      0.93      0.96        46\n",
      "           5       0.93      0.83      0.88        47\n",
      "           6       0.97      0.97      0.97        35\n",
      "           7       0.92      0.97      0.94        34\n",
      "           8       0.86      0.80      0.83        30\n",
      "           9       0.77      0.85      0.81        40\n",
      "\n",
      "    accuracy                           0.90       360\n",
      "   macro avg       0.90      0.90      0.90       360\n",
      "weighted avg       0.90      0.90      0.90       360\n",
      "\n"
     ]
    },
    {
     "data": {
      "text/plain": [
       "<AxesSubplot:>"
      ]
     },
     "execution_count": 426,
     "metadata": {},
     "output_type": "execute_result"
    },
    {
     "data": {
      "image/png": "[encoded data removed]",
      "text/plain": [
       "<Figure size 576x576 with 1 Axes>"
      ]
     },
     "metadata": {
      "needs_background": "light"
     },
     "output_type": "display_data"
    }
   ],
   "source": [
    "X_train, X_test = X_train/16, X_test/16\n",
    "\n",
    "df = X_train.copy()\n",
    "df[\"label\"] = y_train.copy()\n",
    "\n",
    "avg_table = df.groupby([\"label\"]).mean()\n",
    "\n",
    "preds = list()\n",
    "\n",
    "for i in range(len(X_test)):\n",
    "    preds.append(((avg_table - X_test.iloc[i])**2).sum(1).argmin())\n",
    "    \n",
    "print(classification_report(y_test.values, preds))\n",
    "\n",
    "conf = confusion_matrix(y_test.values, preds)\n",
    "\n",
    "fig, ax = plt.subplots(figsize=(8,8))\n",
    "sns.heatmap(conf, annot=True, fmt=\"g\", cbar=False, ax=ax, cmap=\"viridis\")"
   ]
  },
  {
   "cell_type": "markdown",
   "id": "prompt-hamburg",
   "metadata": {},
   "source": [
    "### LogReg Model"
   ]
  },
  {
   "cell_type": "code",
   "execution_count": 427,
   "id": "potential-powder",
   "metadata": {},
   "outputs": [
    {
     "name": "stdout",
     "output_type": "stream",
     "text": [
      "              precision    recall  f1-score   support\n",
      "\n",
      "           0       1.00      1.00      1.00        33\n",
      "           1       0.96      0.96      0.96        28\n",
      "           2       0.97      1.00      0.99        33\n",
      "           3       1.00      0.97      0.99        34\n",
      "           4       1.00      0.98      0.99        46\n",
      "           5       0.91      0.91      0.91        47\n",
      "           6       0.97      0.97      0.97        35\n",
      "           7       1.00      0.97      0.99        34\n",
      "           8       0.97      0.97      0.97        30\n",
      "           9       0.90      0.95      0.93        40\n",
      "\n",
      "    accuracy                           0.97       360\n",
      "   macro avg       0.97      0.97      0.97       360\n",
      "weighted avg       0.97      0.97      0.97       360\n",
      "\n"
     ]
    },
    {
     "name": "stderr",
     "output_type": "stream",
     "text": [
      "/opt/conda/lib/python3.7/site-packages/sklearn/linear_model/_logistic.py:765: ConvergenceWarning: lbfgs failed to converge (status=1):\n",
      "STOP: TOTAL NO. of ITERATIONS REACHED LIMIT.\n",
      "\n",
      "Increase the number of iterations (max_iter) or scale the data as shown in:\n",
      "    https://scikit-learn.org/stable/modules/preprocessing.html\n",
      "Please also refer to the documentation for alternative solver options:\n",
      "    https://scikit-learn.org/stable/modules/linear_model.html#logistic-regression\n",
      "  extra_warning_msg=_LOGISTIC_SOLVER_CONVERGENCE_MSG)\n"
     ]
    },
    {
     "data": {
      "text/plain": [
       "<AxesSubplot:>"
      ]
     },
     "execution_count": 427,
     "metadata": {},
     "output_type": "execute_result"
    },
    {
     "data": {
      "image/png": "[encoded data removed]",
      "text/plain": [
       "<Figure size 576x576 with 1 Axes>"
      ]
     },
     "metadata": {
      "needs_background": "light"
     },
     "output_type": "display_data"
    }
   ],
   "source": [
    "model = LogisticRegression()\n",
    "\n",
    "model.fit(X_train, y_train)\n",
    "\n",
    "preds = model.predict(X_test)\n",
    "\n",
    "print(classification_report(y_test, preds))\n",
    "\n",
    "conf = confusion_matrix(y_test, preds)\n",
    "\n",
    "fig, ax = plt.subplots(figsize=(8,8))\n",
    "sns.heatmap(conf, annot=True, fmt=\"g\", cbar=False, ax=ax, cmap=\"viridis\")"
   ]
  },
  {
   "cell_type": "code",
   "execution_count": 428,
   "id": "automotive-pontiac",
   "metadata": {},
   "outputs": [
    {
     "name": "stderr",
     "output_type": "stream",
     "text": [
      "/opt/conda/lib/python3.7/site-packages/sklearn/linear_model/_logistic.py:765: ConvergenceWarning: lbfgs failed to converge (status=1):\n",
      "STOP: TOTAL NO. of ITERATIONS REACHED LIMIT.\n",
      "\n",
      "Increase the number of iterations (max_iter) or scale the data as shown in:\n",
      "    https://scikit-learn.org/stable/modules/preprocessing.html\n",
      "Please also refer to the documentation for alternative solver options:\n",
      "    https://scikit-learn.org/stable/modules/linear_model.html#logistic-regression\n",
      "  extra_warning_msg=_LOGISTIC_SOLVER_CONVERGENCE_MSG)\n"
     ]
    },
    {
     "name": "stdout",
     "output_type": "stream",
     "text": [
      "              precision    recall  f1-score   support\n",
      "\n",
      "           0       1.00      1.00      1.00        33\n",
      "           1       0.97      1.00      0.98        28\n",
      "           2       1.00      1.00      1.00        33\n",
      "           3       0.97      0.97      0.97        34\n",
      "           4       1.00      0.98      0.99        46\n",
      "           5       0.92      0.96      0.94        47\n",
      "           6       0.97      0.97      0.97        35\n",
      "           7       1.00      0.97      0.99        34\n",
      "           8       0.97      0.97      0.97        30\n",
      "           9       0.97      0.95      0.96        40\n",
      "\n",
      "    accuracy                           0.97       360\n",
      "   macro avg       0.98      0.98      0.98       360\n",
      "weighted avg       0.98      0.97      0.98       360\n",
      "\n"
     ]
    },
    {
     "data": {
      "text/plain": [
       "<AxesSubplot:>"
      ]
     },
     "execution_count": 428,
     "metadata": {},
     "output_type": "execute_result"
    },
    {
     "data": {
      "image/png": "[encoded data removed]",
      "text/plain": [
       "<Figure size 576x576 with 1 Axes>"
      ]
     },
     "metadata": {
      "needs_background": "light"
     },
     "output_type": "display_data"
    }
   ],
   "source": [
    "model = LogisticRegression(C=100)\n",
    "\n",
    "model.fit(X_train, y_train)\n",
    "\n",
    "preds = model.predict(X_test)\n",
    "\n",
    "print(classification_report(y_test, preds))\n",
    "\n",
    "conf = confusion_matrix(y_test, preds)\n",
    "\n",
    "fig, ax = plt.subplots(figsize=(8,8))\n",
    "sns.heatmap(conf, annot=True, fmt=\"g\", cbar=False, ax=ax, cmap=\"viridis\")"
   ]
  },
  {
   "cell_type": "markdown",
   "id": "legislative-union",
   "metadata": {},
   "source": [
    "### Binary Classification - LogReg"
   ]
  },
  {
   "cell_type": "code",
   "execution_count": 429,
   "id": "stopped-smith",
   "metadata": {},
   "outputs": [
    {
     "name": "stdout",
     "output_type": "stream",
     "text": [
      "              precision    recall  f1-score   support\n",
      "\n",
      "           0       0.98      0.98      0.98       320\n",
      "           1       0.87      0.85      0.86        40\n",
      "\n",
      "    accuracy                           0.97       360\n",
      "   macro avg       0.93      0.92      0.92       360\n",
      "weighted avg       0.97      0.97      0.97       360\n",
      "\n"
     ]
    },
    {
     "name": "stderr",
     "output_type": "stream",
     "text": [
      "/opt/conda/lib/python3.7/site-packages/sklearn/linear_model/_logistic.py:765: ConvergenceWarning: lbfgs failed to converge (status=1):\n",
      "STOP: TOTAL NO. of ITERATIONS REACHED LIMIT.\n",
      "\n",
      "Increase the number of iterations (max_iter) or scale the data as shown in:\n",
      "    https://scikit-learn.org/stable/modules/preprocessing.html\n",
      "Please also refer to the documentation for alternative solver options:\n",
      "    https://scikit-learn.org/stable/modules/linear_model.html#logistic-regression\n",
      "  extra_warning_msg=_LOGISTIC_SOLVER_CONVERGENCE_MSG)\n"
     ]
    },
    {
     "data": {
      "text/plain": [
       "<AxesSubplot:>"
      ]
     },
     "execution_count": 429,
     "metadata": {},
     "output_type": "execute_result"
    },
    {
     "data": {
      "image/png": "[encoded data removed]",
      "text/plain": [
       "<Figure size 576x576 with 1 Axes>"
      ]
     },
     "metadata": {
      "needs_background": "light"
     },
     "output_type": "display_data"
    }
   ],
   "source": [
    "data = datasets.load_digits()\n",
    "X = pd.DataFrame(data.data, columns=data.feature_names)\n",
    "y = pd.Series(data.target).rename(\"target\")\n",
    "y = (y == 9).astype(int)\n",
    "\n",
    "X_train, X_test, y_train, y_test = train_test_split(X, y, test_size=0.2, random_state=42)\n",
    "\n",
    "model = LogisticRegression()\n",
    "model.fit(X_train, y_train)\n",
    "\n",
    "preds = model.predict(X_test)\n",
    "probs = model.predict_proba(X_test)[:, 1]\n",
    "\n",
    "print(classification_report(y_test, preds))\n",
    "\n",
    "conf = confusion_matrix(y_test, preds)\n",
    "\n",
    "fig, ax = plt.subplots(figsize=(8,8))\n",
    "sns.heatmap(conf, annot=True, fmt=\"g\", cbar=False, ax=ax, cmap=\"viridis\")"
   ]
  },
  {
   "cell_type": "markdown",
   "id": "checked-maker",
   "metadata": {},
   "source": [
    "##### Coeffs"
   ]
  },
  {
   "cell_type": "code",
   "execution_count": 430,
   "id": "loved-terrorism",
   "metadata": {},
   "outputs": [
    {
     "data": {
      "text/plain": [
       "pixel_0_1   -1.413065\n",
       "pixel_5_3   -1.354788\n",
       "pixel_4_1   -1.288007\n",
       "pixel_7_1   -0.899700\n",
       "pixel_7_7   -0.607860\n",
       "               ...   \n",
       "pixel_6_7    0.385076\n",
       "pixel_4_3    0.389089\n",
       "pixel_0_3    0.390385\n",
       "pixel_3_5    0.405303\n",
       "pixel_2_5    0.623642\n",
       "Length: 64, dtype: float64"
      ]
     },
     "execution_count": 430,
     "metadata": {},
     "output_type": "execute_result"
    }
   ],
   "source": [
    "coeffs = pd.Series(model.coef_.T.ravel(), index=data.feature_names)\n",
    "coeffs.sort_values()"
   ]
  },
  {
   "cell_type": "code",
   "execution_count": 431,
   "id": "moving-bosnia",
   "metadata": {},
   "outputs": [
    {
     "data": {
      "text/plain": [
       "<AxesSubplot:xlabel='pixel_0_1', ylabel='count'>"
      ]
     },
     "execution_count": 431,
     "metadata": {},
     "output_type": "execute_result"
    },
    {
     "data": {
      "image/png": "[encoded data removed]",
      "text/plain": [
       "<Figure size 432x288 with 1 Axes>"
      ]
     },
     "metadata": {
      "needs_background": "light"
     },
     "output_type": "display_data"
    }
   ],
   "source": [
    "df = X_train.copy()\n",
    "df[\"label\"] = y_train.copy()\n",
    "\n",
    "sns.countplot(data=df, x=\"pixel_0_1\", hue=\"label\")"
   ]
  },
  {
   "cell_type": "code",
   "execution_count": 432,
   "id": "speaking-cliff",
   "metadata": {},
   "outputs": [
    {
     "data": {
      "text/plain": [
       "<seaborn.axisgrid.FacetGrid at 0x7fecba95b190>"
      ]
     },
     "execution_count": 432,
     "metadata": {},
     "output_type": "execute_result"
    },
    {
     "data": {
      "image/png": "[encoded data removed]",
      "text/plain": [
       "<Figure size 6162.38x360 with 17 Axes>"
      ]
     },
     "metadata": {
      "needs_background": "light"
     },
     "output_type": "display_data"
    }
   ],
   "source": [
    "sns.catplot(x=\"pixel_0_1\", hue=\"label\", col=\"pixel_2_5\",\n",
    "                data=df, kind=\"count\")"
   ]
  },
  {
   "cell_type": "code",
   "execution_count": 433,
   "id": "developing-vehicle",
   "metadata": {},
   "outputs": [
    {
     "data": {
      "text/plain": [
       "<seaborn.axisgrid.FacetGrid at 0x7fecb9cf1f10>"
      ]
     },
     "execution_count": 433,
     "metadata": {},
     "output_type": "execute_result"
    },
    {
     "data": {
      "image/png": "[encoded data removed]",
      "text/plain": [
       "<Figure size 3282.38x360 with 9 Axes>"
      ]
     },
     "metadata": {
      "needs_background": "light"
     },
     "output_type": "display_data"
    }
   ],
   "source": [
    "sns.catplot(x=\"pixel_2_5\", hue=\"label\", col=\"pixel_0_1\",\n",
    "                data=df, kind=\"count\")"
   ]
  },
  {
   "cell_type": "markdown",
   "id": "virgin-compromise",
   "metadata": {},
   "source": [
    "##### ROC Curve"
   ]
  },
  {
   "cell_type": "code",
   "execution_count": 434,
   "id": "returning-nitrogen",
   "metadata": {},
   "outputs": [
    {
     "name": "stdout",
     "output_type": "stream",
     "text": [
      "No Skill: ROC AUC=0.500\n",
      "Logistic: ROC AUC=0.990\n"
     ]
    },
    {
     "data": {
      "image/png": "[encoded data removed]",
      "text/plain": [
       "<Figure size 432x288 with 1 Axes>"
      ]
     },
     "metadata": {
      "needs_background": "light"
     },
     "output_type": "display_data"
    }
   ],
   "source": [
    "from sklearn.metrics import roc_curve\n",
    "from sklearn.metrics import roc_auc_score\n",
    "\n",
    "ns_probs = [0 for _ in range(len(y_test))]\n",
    "ns_auc = roc_auc_score(y_test, ns_probs)\n",
    "lr_auc = roc_auc_score(y_test, probs)\n",
    "# summarize scores\n",
    "print('No Skill: ROC AUC=%.3f' % (ns_auc))\n",
    "print('Logistic: ROC AUC=%.3f' % (lr_auc))\n",
    "# calculate roc curves\n",
    "ns_fpr, ns_tpr, _ = roc_curve(y_test, ns_probs)\n",
    "lr_fpr, lr_tpr, _ = roc_curve(y_test, probs)\n",
    "# plot the roc curve for the model\n",
    "pyplot.plot(ns_fpr, ns_tpr, linestyle='--', label='No Skill')\n",
    "pyplot.plot(lr_fpr, lr_tpr, marker='.', label='Logistic')\n",
    "# axis labels\n",
    "pyplot.xlabel('False Positive Rate')\n",
    "pyplot.ylabel('True Positive Rate')\n",
    "# show the legend\n",
    "pyplot.legend()\n",
    "# show the plot\n",
    "pyplot.show()"
   ]
  },
  {
   "cell_type": "code",
   "execution_count": 435,
   "id": "sufficient-swing",
   "metadata": {},
   "outputs": [
    {
     "data": {
      "text/plain": [
       "array([0.   , 0.025, 0.75 , 0.75 , 0.775, 0.775, 0.8  , 0.8  , 0.85 ,\n",
       "       0.85 , 0.875, 0.875, 0.9  , 0.9  , 0.925, 0.925, 0.95 , 0.95 ,\n",
       "       0.975, 0.975, 1.   , 1.   ])"
      ]
     },
     "execution_count": 435,
     "metadata": {},
     "output_type": "execute_result"
    }
   ],
   "source": [
    "lr_tpr"
   ]
  },
  {
   "cell_type": "code",
   "execution_count": 436,
   "id": "naval-angola",
   "metadata": {},
   "outputs": [],
   "source": [
    "conf = pd.DataFrame(y_test)\n",
    "conf[\"probs\"] = probs\n",
    "conf[\"probs\"] = conf[\"probs\"].round(4)\n",
    "conf = conf.sort_values(\"probs\")\n",
    "\n",
    "conf[\"cumcount\"] = conf.groupby(\"target\").cumcount()\n",
    "\n",
    "conf = conf.join(conf[conf[\"target\"] == 0][\"cumcount\"].rename(\"count_0\")).fillna(method=\"ffill\")\n",
    "conf[\"count_0\"] = conf[\"count_0\"].astype(int)\n",
    "\n",
    "conf = conf.join(conf[conf[\"target\"] == 1][\"cumcount\"].rename(\"count_1\")).fillna(method=\"ffill\").fillna(0)\n",
    "conf[\"count_1\"] = conf[\"count_1\"].astype(int)"
   ]
  },
  {
   "cell_type": "code",
   "execution_count": 437,
   "id": "worth-universe",
   "metadata": {},
   "outputs": [
    {
     "data": {
      "text/html": [
       "<div>\n",
       "<style scoped>\n",
       "    .dataframe tbody tr th:only-of-type {\n",
       "        vertical-align: middle;\n",
       "    }\n",
       "\n",
       "    .dataframe tbody tr th {\n",
       "        vertical-align: top;\n",
       "    }\n",
       "\n",
       "    .dataframe thead th {\n",
       "        text-align: right;\n",
       "    }\n",
       "</style>\n",
       "<table border=\"1\" class=\"dataframe\">\n",
       "  <thead>\n",
       "    <tr style=\"text-align: right;\">\n",
       "      <th></th>\n",
       "      <th>target</th>\n",
       "      <th>probs</th>\n",
       "      <th>cumcount</th>\n",
       "      <th>count_0</th>\n",
       "      <th>count_1</th>\n",
       "    </tr>\n",
       "  </thead>\n",
       "  <tbody>\n",
       "    <tr>\n",
       "      <th>275</th>\n",
       "      <td>1</td>\n",
       "      <td>0.0035</td>\n",
       "      <td>1</td>\n",
       "      <td>299</td>\n",
       "      <td>1</td>\n",
       "    </tr>\n",
       "    <tr>\n",
       "      <th>555</th>\n",
       "      <td>1</td>\n",
       "      <td>0.0086</td>\n",
       "      <td>2</td>\n",
       "      <td>303</td>\n",
       "      <td>2</td>\n",
       "    </tr>\n",
       "    <tr>\n",
       "      <th>69</th>\n",
       "      <td>1</td>\n",
       "      <td>0.0139</td>\n",
       "      <td>3</td>\n",
       "      <td>304</td>\n",
       "      <td>3</td>\n",
       "    </tr>\n",
       "    <tr>\n",
       "      <th>1582</th>\n",
       "      <td>1</td>\n",
       "      <td>0.0580</td>\n",
       "      <td>4</td>\n",
       "      <td>307</td>\n",
       "      <td>4</td>\n",
       "    </tr>\n",
       "    <tr>\n",
       "      <th>29</th>\n",
       "      <td>1</td>\n",
       "      <td>0.4196</td>\n",
       "      <td>5</td>\n",
       "      <td>314</td>\n",
       "      <td>5</td>\n",
       "    </tr>\n",
       "    <tr>\n",
       "      <th>1454</th>\n",
       "      <td>1</td>\n",
       "      <td>0.5860</td>\n",
       "      <td>6</td>\n",
       "      <td>315</td>\n",
       "      <td>6</td>\n",
       "    </tr>\n",
       "    <tr>\n",
       "      <th>1488</th>\n",
       "      <td>1</td>\n",
       "      <td>0.6085</td>\n",
       "      <td>7</td>\n",
       "      <td>315</td>\n",
       "      <td>7</td>\n",
       "    </tr>\n",
       "    <tr>\n",
       "      <th>1786</th>\n",
       "      <td>1</td>\n",
       "      <td>0.7957</td>\n",
       "      <td>8</td>\n",
       "      <td>316</td>\n",
       "      <td>8</td>\n",
       "    </tr>\n",
       "    <tr>\n",
       "      <th>381</th>\n",
       "      <td>1</td>\n",
       "      <td>0.9174</td>\n",
       "      <td>9</td>\n",
       "      <td>317</td>\n",
       "      <td>9</td>\n",
       "    </tr>\n",
       "    <tr>\n",
       "      <th>1706</th>\n",
       "      <td>1</td>\n",
       "      <td>0.9723</td>\n",
       "      <td>10</td>\n",
       "      <td>319</td>\n",
       "      <td>10</td>\n",
       "    </tr>\n",
       "    <tr>\n",
       "      <th>535</th>\n",
       "      <td>1</td>\n",
       "      <td>0.9799</td>\n",
       "      <td>11</td>\n",
       "      <td>319</td>\n",
       "      <td>11</td>\n",
       "    </tr>\n",
       "    <tr>\n",
       "      <th>415</th>\n",
       "      <td>1</td>\n",
       "      <td>0.9852</td>\n",
       "      <td>12</td>\n",
       "      <td>319</td>\n",
       "      <td>12</td>\n",
       "    </tr>\n",
       "    <tr>\n",
       "      <th>774</th>\n",
       "      <td>1</td>\n",
       "      <td>0.9853</td>\n",
       "      <td>13</td>\n",
       "      <td>319</td>\n",
       "      <td>13</td>\n",
       "    </tr>\n",
       "    <tr>\n",
       "      <th>233</th>\n",
       "      <td>1</td>\n",
       "      <td>0.9908</td>\n",
       "      <td>14</td>\n",
       "      <td>319</td>\n",
       "      <td>14</td>\n",
       "    </tr>\n",
       "    <tr>\n",
       "      <th>254</th>\n",
       "      <td>1</td>\n",
       "      <td>0.9920</td>\n",
       "      <td>15</td>\n",
       "      <td>319</td>\n",
       "      <td>15</td>\n",
       "    </tr>\n",
       "    <tr>\n",
       "      <th>1633</th>\n",
       "      <td>1</td>\n",
       "      <td>0.9926</td>\n",
       "      <td>16</td>\n",
       "      <td>319</td>\n",
       "      <td>16</td>\n",
       "    </tr>\n",
       "    <tr>\n",
       "      <th>813</th>\n",
       "      <td>1</td>\n",
       "      <td>0.9952</td>\n",
       "      <td>17</td>\n",
       "      <td>319</td>\n",
       "      <td>17</td>\n",
       "    </tr>\n",
       "    <tr>\n",
       "      <th>478</th>\n",
       "      <td>1</td>\n",
       "      <td>0.9981</td>\n",
       "      <td>18</td>\n",
       "      <td>319</td>\n",
       "      <td>18</td>\n",
       "    </tr>\n",
       "    <tr>\n",
       "      <th>203</th>\n",
       "      <td>1</td>\n",
       "      <td>0.9984</td>\n",
       "      <td>19</td>\n",
       "      <td>319</td>\n",
       "      <td>19</td>\n",
       "    </tr>\n",
       "    <tr>\n",
       "      <th>73</th>\n",
       "      <td>1</td>\n",
       "      <td>0.9985</td>\n",
       "      <td>20</td>\n",
       "      <td>319</td>\n",
       "      <td>20</td>\n",
       "    </tr>\n",
       "    <tr>\n",
       "      <th>1616</th>\n",
       "      <td>1</td>\n",
       "      <td>0.9988</td>\n",
       "      <td>21</td>\n",
       "      <td>319</td>\n",
       "      <td>21</td>\n",
       "    </tr>\n",
       "    <tr>\n",
       "      <th>845</th>\n",
       "      <td>1</td>\n",
       "      <td>0.9993</td>\n",
       "      <td>22</td>\n",
       "      <td>319</td>\n",
       "      <td>22</td>\n",
       "    </tr>\n",
       "    <tr>\n",
       "      <th>514</th>\n",
       "      <td>1</td>\n",
       "      <td>0.9995</td>\n",
       "      <td>23</td>\n",
       "      <td>319</td>\n",
       "      <td>23</td>\n",
       "    </tr>\n",
       "    <tr>\n",
       "      <th>1285</th>\n",
       "      <td>1</td>\n",
       "      <td>0.9998</td>\n",
       "      <td>24</td>\n",
       "      <td>319</td>\n",
       "      <td>24</td>\n",
       "    </tr>\n",
       "    <tr>\n",
       "      <th>585</th>\n",
       "      <td>1</td>\n",
       "      <td>0.9998</td>\n",
       "      <td>25</td>\n",
       "      <td>319</td>\n",
       "      <td>25</td>\n",
       "    </tr>\n",
       "    <tr>\n",
       "      <th>993</th>\n",
       "      <td>1</td>\n",
       "      <td>0.9998</td>\n",
       "      <td>26</td>\n",
       "      <td>319</td>\n",
       "      <td>26</td>\n",
       "    </tr>\n",
       "    <tr>\n",
       "      <th>1188</th>\n",
       "      <td>1</td>\n",
       "      <td>0.9999</td>\n",
       "      <td>27</td>\n",
       "      <td>319</td>\n",
       "      <td>27</td>\n",
       "    </tr>\n",
       "    <tr>\n",
       "      <th>1132</th>\n",
       "      <td>1</td>\n",
       "      <td>0.9999</td>\n",
       "      <td>28</td>\n",
       "      <td>319</td>\n",
       "      <td>28</td>\n",
       "    </tr>\n",
       "    <tr>\n",
       "      <th>220</th>\n",
       "      <td>1</td>\n",
       "      <td>0.9999</td>\n",
       "      <td>29</td>\n",
       "      <td>319</td>\n",
       "      <td>29</td>\n",
       "    </tr>\n",
       "    <tr>\n",
       "      <th>1740</th>\n",
       "      <td>1</td>\n",
       "      <td>0.9999</td>\n",
       "      <td>30</td>\n",
       "      <td>319</td>\n",
       "      <td>30</td>\n",
       "    </tr>\n",
       "    <tr>\n",
       "      <th>589</th>\n",
       "      <td>1</td>\n",
       "      <td>0.9999</td>\n",
       "      <td>31</td>\n",
       "      <td>319</td>\n",
       "      <td>31</td>\n",
       "    </tr>\n",
       "    <tr>\n",
       "      <th>1006</th>\n",
       "      <td>1</td>\n",
       "      <td>1.0000</td>\n",
       "      <td>32</td>\n",
       "      <td>319</td>\n",
       "      <td>32</td>\n",
       "    </tr>\n",
       "    <tr>\n",
       "      <th>849</th>\n",
       "      <td>1</td>\n",
       "      <td>1.0000</td>\n",
       "      <td>33</td>\n",
       "      <td>319</td>\n",
       "      <td>33</td>\n",
       "    </tr>\n",
       "    <tr>\n",
       "      <th>1324</th>\n",
       "      <td>1</td>\n",
       "      <td>1.0000</td>\n",
       "      <td>34</td>\n",
       "      <td>319</td>\n",
       "      <td>34</td>\n",
       "    </tr>\n",
       "    <tr>\n",
       "      <th>1360</th>\n",
       "      <td>1</td>\n",
       "      <td>1.0000</td>\n",
       "      <td>35</td>\n",
       "      <td>319</td>\n",
       "      <td>35</td>\n",
       "    </tr>\n",
       "    <tr>\n",
       "      <th>251</th>\n",
       "      <td>1</td>\n",
       "      <td>1.0000</td>\n",
       "      <td>36</td>\n",
       "      <td>319</td>\n",
       "      <td>36</td>\n",
       "    </tr>\n",
       "    <tr>\n",
       "      <th>1392</th>\n",
       "      <td>1</td>\n",
       "      <td>1.0000</td>\n",
       "      <td>37</td>\n",
       "      <td>319</td>\n",
       "      <td>37</td>\n",
       "    </tr>\n",
       "    <tr>\n",
       "      <th>1676</th>\n",
       "      <td>1</td>\n",
       "      <td>1.0000</td>\n",
       "      <td>38</td>\n",
       "      <td>319</td>\n",
       "      <td>38</td>\n",
       "    </tr>\n",
       "    <tr>\n",
       "      <th>1027</th>\n",
       "      <td>1</td>\n",
       "      <td>1.0000</td>\n",
       "      <td>39</td>\n",
       "      <td>319</td>\n",
       "      <td>39</td>\n",
       "    </tr>\n",
       "  </tbody>\n",
       "</table>\n",
       "</div>"
      ],
      "text/plain": [
       "      target   probs  cumcount  count_0  count_1\n",
       "275        1  0.0035         1      299        1\n",
       "555        1  0.0086         2      303        2\n",
       "69         1  0.0139         3      304        3\n",
       "1582       1  0.0580         4      307        4\n",
       "29         1  0.4196         5      314        5\n",
       "1454       1  0.5860         6      315        6\n",
       "1488       1  0.6085         7      315        7\n",
       "1786       1  0.7957         8      316        8\n",
       "381        1  0.9174         9      317        9\n",
       "1706       1  0.9723        10      319       10\n",
       "535        1  0.9799        11      319       11\n",
       "415        1  0.9852        12      319       12\n",
       "774        1  0.9853        13      319       13\n",
       "233        1  0.9908        14      319       14\n",
       "254        1  0.9920        15      319       15\n",
       "1633       1  0.9926        16      319       16\n",
       "813        1  0.9952        17      319       17\n",
       "478        1  0.9981        18      319       18\n",
       "203        1  0.9984        19      319       19\n",
       "73         1  0.9985        20      319       20\n",
       "1616       1  0.9988        21      319       21\n",
       "845        1  0.9993        22      319       22\n",
       "514        1  0.9995        23      319       23\n",
       "1285       1  0.9998        24      319       24\n",
       "585        1  0.9998        25      319       25\n",
       "993        1  0.9998        26      319       26\n",
       "1188       1  0.9999        27      319       27\n",
       "1132       1  0.9999        28      319       28\n",
       "220        1  0.9999        29      319       29\n",
       "1740       1  0.9999        30      319       30\n",
       "589        1  0.9999        31      319       31\n",
       "1006       1  1.0000        32      319       32\n",
       "849        1  1.0000        33      319       33\n",
       "1324       1  1.0000        34      319       34\n",
       "1360       1  1.0000        35      319       35\n",
       "251        1  1.0000        36      319       36\n",
       "1392       1  1.0000        37      319       37\n",
       "1676       1  1.0000        38      319       38\n",
       "1027       1  1.0000        39      319       39"
      ]
     },
     "execution_count": 437,
     "metadata": {},
     "output_type": "execute_result"
    }
   ],
   "source": [
    "conf[conf[\"count_1\"] - conf[\"count_1\"].shift(1).fillna(0) == 1]"
   ]
  },
  {
   "cell_type": "markdown",
   "id": "creative-infrared",
   "metadata": {},
   "source": [
    "## EDA"
   ]
  },
  {
   "cell_type": "code",
   "execution_count": 466,
   "id": "color-people",
   "metadata": {},
   "outputs": [
    {
     "data": {
      "text/html": [
       "<div>\n",
       "<style scoped>\n",
       "    .dataframe tbody tr th:only-of-type {\n",
       "        vertical-align: middle;\n",
       "    }\n",
       "\n",
       "    .dataframe tbody tr th {\n",
       "        vertical-align: top;\n",
       "    }\n",
       "\n",
       "    .dataframe thead th {\n",
       "        text-align: right;\n",
       "    }\n",
       "</style>\n",
       "<table border=\"1\" class=\"dataframe\">\n",
       "  <thead>\n",
       "    <tr style=\"text-align: right;\">\n",
       "      <th></th>\n",
       "      <th>pixel_0_0</th>\n",
       "      <th>pixel_0_1</th>\n",
       "      <th>pixel_0_2</th>\n",
       "      <th>pixel_0_3</th>\n",
       "      <th>pixel_0_4</th>\n",
       "      <th>pixel_0_5</th>\n",
       "      <th>pixel_0_6</th>\n",
       "      <th>pixel_0_7</th>\n",
       "      <th>pixel_1_0</th>\n",
       "      <th>pixel_1_1</th>\n",
       "      <th>...</th>\n",
       "      <th>pixel_6_6</th>\n",
       "      <th>pixel_6_7</th>\n",
       "      <th>pixel_7_0</th>\n",
       "      <th>pixel_7_1</th>\n",
       "      <th>pixel_7_2</th>\n",
       "      <th>pixel_7_3</th>\n",
       "      <th>pixel_7_4</th>\n",
       "      <th>pixel_7_5</th>\n",
       "      <th>pixel_7_6</th>\n",
       "      <th>pixel_7_7</th>\n",
       "    </tr>\n",
       "  </thead>\n",
       "  <tbody>\n",
       "    <tr>\n",
       "      <th>count</th>\n",
       "      <td>1437.0</td>\n",
       "      <td>1437.000000</td>\n",
       "      <td>1437.000000</td>\n",
       "      <td>1437.000000</td>\n",
       "      <td>1437.000000</td>\n",
       "      <td>1437.000000</td>\n",
       "      <td>1437.000000</td>\n",
       "      <td>1437.000000</td>\n",
       "      <td>1437.000000</td>\n",
       "      <td>1437.000000</td>\n",
       "      <td>...</td>\n",
       "      <td>1437.000000</td>\n",
       "      <td>1437.000000</td>\n",
       "      <td>1437.000000</td>\n",
       "      <td>1437.000000</td>\n",
       "      <td>1437.000000</td>\n",
       "      <td>1437.000000</td>\n",
       "      <td>1437.000000</td>\n",
       "      <td>1437.000000</td>\n",
       "      <td>1437.000000</td>\n",
       "      <td>1437.000000</td>\n",
       "    </tr>\n",
       "    <tr>\n",
       "      <th>mean</th>\n",
       "      <td>0.0</td>\n",
       "      <td>0.310369</td>\n",
       "      <td>5.227557</td>\n",
       "      <td>11.821851</td>\n",
       "      <td>11.890745</td>\n",
       "      <td>5.841336</td>\n",
       "      <td>1.377871</td>\n",
       "      <td>0.144746</td>\n",
       "      <td>0.005567</td>\n",
       "      <td>1.983299</td>\n",
       "      <td>...</td>\n",
       "      <td>3.744607</td>\n",
       "      <td>0.202505</td>\n",
       "      <td>0.000696</td>\n",
       "      <td>0.281837</td>\n",
       "      <td>5.563674</td>\n",
       "      <td>12.082116</td>\n",
       "      <td>11.853166</td>\n",
       "      <td>6.797495</td>\n",
       "      <td>2.096729</td>\n",
       "      <td>0.369520</td>\n",
       "    </tr>\n",
       "    <tr>\n",
       "      <th>std</th>\n",
       "      <td>0.0</td>\n",
       "      <td>0.908631</td>\n",
       "      <td>4.809070</td>\n",
       "      <td>4.286111</td>\n",
       "      <td>4.279237</td>\n",
       "      <td>5.633652</td>\n",
       "      <td>3.392994</td>\n",
       "      <td>1.105158</td>\n",
       "      <td>0.091244</td>\n",
       "      <td>3.214218</td>\n",
       "      <td>...</td>\n",
       "      <td>4.904326</td>\n",
       "      <td>0.937486</td>\n",
       "      <td>0.026380</td>\n",
       "      <td>0.919025</td>\n",
       "      <td>5.133010</td>\n",
       "      <td>4.395515</td>\n",
       "      <td>4.891584</td>\n",
       "      <td>5.894031</td>\n",
       "      <td>4.143286</td>\n",
       "      <td>1.875436</td>\n",
       "    </tr>\n",
       "    <tr>\n",
       "      <th>min</th>\n",
       "      <td>0.0</td>\n",
       "      <td>0.000000</td>\n",
       "      <td>0.000000</td>\n",
       "      <td>0.000000</td>\n",
       "      <td>0.000000</td>\n",
       "      <td>0.000000</td>\n",
       "      <td>0.000000</td>\n",
       "      <td>0.000000</td>\n",
       "      <td>0.000000</td>\n",
       "      <td>0.000000</td>\n",
       "      <td>...</td>\n",
       "      <td>0.000000</td>\n",
       "      <td>0.000000</td>\n",
       "      <td>0.000000</td>\n",
       "      <td>0.000000</td>\n",
       "      <td>0.000000</td>\n",
       "      <td>0.000000</td>\n",
       "      <td>0.000000</td>\n",
       "      <td>0.000000</td>\n",
       "      <td>0.000000</td>\n",
       "      <td>0.000000</td>\n",
       "    </tr>\n",
       "    <tr>\n",
       "      <th>25%</th>\n",
       "      <td>0.0</td>\n",
       "      <td>0.000000</td>\n",
       "      <td>1.000000</td>\n",
       "      <td>10.000000</td>\n",
       "      <td>10.000000</td>\n",
       "      <td>0.000000</td>\n",
       "      <td>0.000000</td>\n",
       "      <td>0.000000</td>\n",
       "      <td>0.000000</td>\n",
       "      <td>0.000000</td>\n",
       "      <td>...</td>\n",
       "      <td>0.000000</td>\n",
       "      <td>0.000000</td>\n",
       "      <td>0.000000</td>\n",
       "      <td>0.000000</td>\n",
       "      <td>1.000000</td>\n",
       "      <td>11.000000</td>\n",
       "      <td>10.000000</td>\n",
       "      <td>0.000000</td>\n",
       "      <td>0.000000</td>\n",
       "      <td>0.000000</td>\n",
       "    </tr>\n",
       "    <tr>\n",
       "      <th>50%</th>\n",
       "      <td>0.0</td>\n",
       "      <td>0.000000</td>\n",
       "      <td>4.000000</td>\n",
       "      <td>13.000000</td>\n",
       "      <td>13.000000</td>\n",
       "      <td>4.000000</td>\n",
       "      <td>0.000000</td>\n",
       "      <td>0.000000</td>\n",
       "      <td>0.000000</td>\n",
       "      <td>0.000000</td>\n",
       "      <td>...</td>\n",
       "      <td>1.000000</td>\n",
       "      <td>0.000000</td>\n",
       "      <td>0.000000</td>\n",
       "      <td>0.000000</td>\n",
       "      <td>4.000000</td>\n",
       "      <td>13.000000</td>\n",
       "      <td>14.000000</td>\n",
       "      <td>6.000000</td>\n",
       "      <td>0.000000</td>\n",
       "      <td>0.000000</td>\n",
       "    </tr>\n",
       "    <tr>\n",
       "      <th>75%</th>\n",
       "      <td>0.0</td>\n",
       "      <td>0.000000</td>\n",
       "      <td>9.000000</td>\n",
       "      <td>15.000000</td>\n",
       "      <td>15.000000</td>\n",
       "      <td>11.000000</td>\n",
       "      <td>0.000000</td>\n",
       "      <td>0.000000</td>\n",
       "      <td>0.000000</td>\n",
       "      <td>3.000000</td>\n",
       "      <td>...</td>\n",
       "      <td>7.000000</td>\n",
       "      <td>0.000000</td>\n",
       "      <td>0.000000</td>\n",
       "      <td>0.000000</td>\n",
       "      <td>10.000000</td>\n",
       "      <td>16.000000</td>\n",
       "      <td>16.000000</td>\n",
       "      <td>12.000000</td>\n",
       "      <td>2.000000</td>\n",
       "      <td>0.000000</td>\n",
       "    </tr>\n",
       "    <tr>\n",
       "      <th>max</th>\n",
       "      <td>0.0</td>\n",
       "      <td>8.000000</td>\n",
       "      <td>16.000000</td>\n",
       "      <td>16.000000</td>\n",
       "      <td>16.000000</td>\n",
       "      <td>16.000000</td>\n",
       "      <td>16.000000</td>\n",
       "      <td>15.000000</td>\n",
       "      <td>2.000000</td>\n",
       "      <td>16.000000</td>\n",
       "      <td>...</td>\n",
       "      <td>16.000000</td>\n",
       "      <td>10.000000</td>\n",
       "      <td>1.000000</td>\n",
       "      <td>9.000000</td>\n",
       "      <td>16.000000</td>\n",
       "      <td>16.000000</td>\n",
       "      <td>16.000000</td>\n",
       "      <td>16.000000</td>\n",
       "      <td>16.000000</td>\n",
       "      <td>16.000000</td>\n",
       "    </tr>\n",
       "  </tbody>\n",
       "</table>\n",
       "<p>8 rows × 64 columns</p>\n",
       "</div>"
      ],
      "text/plain": [
       "       pixel_0_0    pixel_0_1    pixel_0_2    pixel_0_3    pixel_0_4  \\\n",
       "count     1437.0  1437.000000  1437.000000  1437.000000  1437.000000   \n",
       "mean         0.0     0.310369     5.227557    11.821851    11.890745   \n",
       "std          0.0     0.908631     4.809070     4.286111     4.279237   \n",
       "min          0.0     0.000000     0.000000     0.000000     0.000000   \n",
       "25%          0.0     0.000000     1.000000    10.000000    10.000000   \n",
       "50%          0.0     0.000000     4.000000    13.000000    13.000000   \n",
       "75%          0.0     0.000000     9.000000    15.000000    15.000000   \n",
       "max          0.0     8.000000    16.000000    16.000000    16.000000   \n",
       "\n",
       "         pixel_0_5    pixel_0_6    pixel_0_7    pixel_1_0    pixel_1_1  ...  \\\n",
       "count  1437.000000  1437.000000  1437.000000  1437.000000  1437.000000  ...   \n",
       "mean      5.841336     1.377871     0.144746     0.005567     1.983299  ...   \n",
       "std       5.633652     3.392994     1.105158     0.091244     3.214218  ...   \n",
       "min       0.000000     0.000000     0.000000     0.000000     0.000000  ...   \n",
       "25%       0.000000     0.000000     0.000000     0.000000     0.000000  ...   \n",
       "50%       4.000000     0.000000     0.000000     0.000000     0.000000  ...   \n",
       "75%      11.000000     0.000000     0.000000     0.000000     3.000000  ...   \n",
       "max      16.000000    16.000000    15.000000     2.000000    16.000000  ...   \n",
       "\n",
       "         pixel_6_6    pixel_6_7    pixel_7_0    pixel_7_1    pixel_7_2  \\\n",
       "count  1437.000000  1437.000000  1437.000000  1437.000000  1437.000000   \n",
       "mean      3.744607     0.202505     0.000696     0.281837     5.563674   \n",
       "std       4.904326     0.937486     0.026380     0.919025     5.133010   \n",
       "min       0.000000     0.000000     0.000000     0.000000     0.000000   \n",
       "25%       0.000000     0.000000     0.000000     0.000000     1.000000   \n",
       "50%       1.000000     0.000000     0.000000     0.000000     4.000000   \n",
       "75%       7.000000     0.000000     0.000000     0.000000    10.000000   \n",
       "max      16.000000    10.000000     1.000000     9.000000    16.000000   \n",
       "\n",
       "         pixel_7_3    pixel_7_4    pixel_7_5    pixel_7_6    pixel_7_7  \n",
       "count  1437.000000  1437.000000  1437.000000  1437.000000  1437.000000  \n",
       "mean     12.082116    11.853166     6.797495     2.096729     0.369520  \n",
       "std       4.395515     4.891584     5.894031     4.143286     1.875436  \n",
       "min       0.000000     0.000000     0.000000     0.000000     0.000000  \n",
       "25%      11.000000    10.000000     0.000000     0.000000     0.000000  \n",
       "50%      13.000000    14.000000     6.000000     0.000000     0.000000  \n",
       "75%      16.000000    16.000000    12.000000     2.000000     0.000000  \n",
       "max      16.000000    16.000000    16.000000    16.000000    16.000000  \n",
       "\n",
       "[8 rows x 64 columns]"
      ]
     },
     "execution_count": 466,
     "metadata": {},
     "output_type": "execute_result"
    }
   ],
   "source": [
    "data = datasets.load_digits()\n",
    "X = pd.DataFrame(data.data, columns=data.feature_names)\n",
    "y = pd.Series(data.target).rename(\"target\")\n",
    "y = (y == 9).astype(int)\n",
    "\n",
    "X_train, X_test, y_train, y_test = train_test_split(X, y, test_size=0.2, random_state=42)\n",
    "\n",
    "X_train.describe()"
   ]
  },
  {
   "cell_type": "code",
   "execution_count": 467,
   "id": "stopped-borough",
   "metadata": {},
   "outputs": [
    {
     "data": {
      "text/plain": [
       "0    1297\n",
       "1     140\n",
       "Name: target, dtype: int64"
      ]
     },
     "execution_count": 467,
     "metadata": {},
     "output_type": "execute_result"
    }
   ],
   "source": [
    "y_train.value_counts().sort_index()"
   ]
  },
  {
   "cell_type": "markdown",
   "id": "absolute-satellite",
   "metadata": {},
   "source": [
    "#### Check std"
   ]
  },
  {
   "cell_type": "code",
   "execution_count": 468,
   "id": "former-avenue",
   "metadata": {},
   "outputs": [],
   "source": [
    "_ = X_train.std() == 0\n",
    "constant_cols = list(_[_ == True].index)"
   ]
  },
  {
   "cell_type": "code",
   "execution_count": 469,
   "id": "innocent-large",
   "metadata": {},
   "outputs": [
    {
     "data": {
      "text/html": [
       "<div>\n",
       "<style scoped>\n",
       "    .dataframe tbody tr th:only-of-type {\n",
       "        vertical-align: middle;\n",
       "    }\n",
       "\n",
       "    .dataframe tbody tr th {\n",
       "        vertical-align: top;\n",
       "    }\n",
       "\n",
       "    .dataframe thead th {\n",
       "        text-align: right;\n",
       "    }\n",
       "</style>\n",
       "<table border=\"1\" class=\"dataframe\">\n",
       "  <thead>\n",
       "    <tr style=\"text-align: right;\">\n",
       "      <th></th>\n",
       "      <th>pixel_0_0</th>\n",
       "      <th>pixel_4_0</th>\n",
       "      <th>pixel_4_7</th>\n",
       "    </tr>\n",
       "  </thead>\n",
       "  <tbody>\n",
       "    <tr>\n",
       "      <th>1734</th>\n",
       "      <td>0.0</td>\n",
       "      <td>0.0</td>\n",
       "      <td>0.0</td>\n",
       "    </tr>\n",
       "    <tr>\n",
       "      <th>855</th>\n",
       "      <td>0.0</td>\n",
       "      <td>0.0</td>\n",
       "      <td>0.0</td>\n",
       "    </tr>\n",
       "    <tr>\n",
       "      <th>1642</th>\n",
       "      <td>0.0</td>\n",
       "      <td>0.0</td>\n",
       "      <td>0.0</td>\n",
       "    </tr>\n",
       "    <tr>\n",
       "      <th>175</th>\n",
       "      <td>0.0</td>\n",
       "      <td>0.0</td>\n",
       "      <td>0.0</td>\n",
       "    </tr>\n",
       "    <tr>\n",
       "      <th>925</th>\n",
       "      <td>0.0</td>\n",
       "      <td>0.0</td>\n",
       "      <td>0.0</td>\n",
       "    </tr>\n",
       "    <tr>\n",
       "      <th>...</th>\n",
       "      <td>...</td>\n",
       "      <td>...</td>\n",
       "      <td>...</td>\n",
       "    </tr>\n",
       "    <tr>\n",
       "      <th>1130</th>\n",
       "      <td>0.0</td>\n",
       "      <td>0.0</td>\n",
       "      <td>0.0</td>\n",
       "    </tr>\n",
       "    <tr>\n",
       "      <th>1294</th>\n",
       "      <td>0.0</td>\n",
       "      <td>0.0</td>\n",
       "      <td>0.0</td>\n",
       "    </tr>\n",
       "    <tr>\n",
       "      <th>860</th>\n",
       "      <td>0.0</td>\n",
       "      <td>0.0</td>\n",
       "      <td>0.0</td>\n",
       "    </tr>\n",
       "    <tr>\n",
       "      <th>1459</th>\n",
       "      <td>0.0</td>\n",
       "      <td>0.0</td>\n",
       "      <td>0.0</td>\n",
       "    </tr>\n",
       "    <tr>\n",
       "      <th>1126</th>\n",
       "      <td>0.0</td>\n",
       "      <td>0.0</td>\n",
       "      <td>0.0</td>\n",
       "    </tr>\n",
       "  </tbody>\n",
       "</table>\n",
       "<p>1437 rows × 3 columns</p>\n",
       "</div>"
      ],
      "text/plain": [
       "      pixel_0_0  pixel_4_0  pixel_4_7\n",
       "1734        0.0        0.0        0.0\n",
       "855         0.0        0.0        0.0\n",
       "1642        0.0        0.0        0.0\n",
       "175         0.0        0.0        0.0\n",
       "925         0.0        0.0        0.0\n",
       "...         ...        ...        ...\n",
       "1130        0.0        0.0        0.0\n",
       "1294        0.0        0.0        0.0\n",
       "860         0.0        0.0        0.0\n",
       "1459        0.0        0.0        0.0\n",
       "1126        0.0        0.0        0.0\n",
       "\n",
       "[1437 rows x 3 columns]"
      ]
     },
     "execution_count": 469,
     "metadata": {},
     "output_type": "execute_result"
    }
   ],
   "source": [
    "X_train[constant_cols]"
   ]
  },
  {
   "cell_type": "code",
   "execution_count": 470,
   "id": "tender-technical",
   "metadata": {},
   "outputs": [],
   "source": [
    "X_train = X_train.drop(constant_cols,1)\n",
    "X_test = X_test.drop(constant_cols,1)"
   ]
  },
  {
   "cell_type": "markdown",
   "id": "higher-singles",
   "metadata": {},
   "source": [
    "### Feature Engineering"
   ]
  },
  {
   "cell_type": "code",
   "execution_count": 471,
   "id": "employed-playlist",
   "metadata": {},
   "outputs": [],
   "source": [
    "X_train[\"sum\"] = X_train.sum(1)\n",
    "X_train[\"count\"] = (X_train > 7).sum(1)\n",
    "\n",
    "X_test[\"sum\"] = X_test.sum(1)\n",
    "X_test[\"count\"] = (X_test > 7).sum(1)"
   ]
  },
  {
   "cell_type": "code",
   "execution_count": 472,
   "id": "southeast-durham",
   "metadata": {},
   "outputs": [
    {
     "name": "stdout",
     "output_type": "stream",
     "text": [
      "              precision    recall  f1-score   support\n",
      "\n",
      "           0       0.98      0.99      0.98       320\n",
      "           1       0.89      0.82      0.86        40\n",
      "\n",
      "    accuracy                           0.97       360\n",
      "   macro avg       0.94      0.91      0.92       360\n",
      "weighted avg       0.97      0.97      0.97       360\n",
      "\n"
     ]
    },
    {
     "name": "stderr",
     "output_type": "stream",
     "text": [
      "/opt/conda/lib/python3.7/site-packages/sklearn/linear_model/_logistic.py:765: ConvergenceWarning: lbfgs failed to converge (status=1):\n",
      "STOP: TOTAL NO. of ITERATIONS REACHED LIMIT.\n",
      "\n",
      "Increase the number of iterations (max_iter) or scale the data as shown in:\n",
      "    https://scikit-learn.org/stable/modules/preprocessing.html\n",
      "Please also refer to the documentation for alternative solver options:\n",
      "    https://scikit-learn.org/stable/modules/linear_model.html#logistic-regression\n",
      "  extra_warning_msg=_LOGISTIC_SOLVER_CONVERGENCE_MSG)\n"
     ]
    },
    {
     "data": {
      "text/plain": [
       "<AxesSubplot:>"
      ]
     },
     "execution_count": 472,
     "metadata": {},
     "output_type": "execute_result"
    },
    {
     "data": {
      "image/png": "[encoded data removed]",
      "text/plain": [
       "<Figure size 576x576 with 1 Axes>"
      ]
     },
     "metadata": {
      "needs_background": "light"
     },
     "output_type": "display_data"
    }
   ],
   "source": [
    "model = LogisticRegression()\n",
    "\n",
    "model.fit(X_train, y_train)\n",
    "\n",
    "preds = model.predict(X_test)\n",
    "\n",
    "print(classification_report(y_test, preds))\n",
    "\n",
    "conf = confusion_matrix(y_test, preds)\n",
    "\n",
    "fig, ax = plt.subplots(figsize=(8,8))\n",
    "sns.heatmap(conf, annot=True, fmt=\"g\", cbar=False, ax=ax, cmap=\"viridis\")"
   ]
  },
  {
   "cell_type": "code",
   "execution_count": 473,
   "id": "altered-georgia",
   "metadata": {},
   "outputs": [
    {
     "data": {
      "text/plain": [
       "pixel_5_3   -1.158712\n",
       "pixel_4_1   -0.705698\n",
       "pixel_5_2   -0.660474\n",
       "pixel_5_4   -0.371857\n",
       "pixel_0_5   -0.269736\n",
       "               ...   \n",
       "pixel_1_2    0.345753\n",
       "pixel_3_3    0.515645\n",
       "pixel_3_5    0.560460\n",
       "pixel_4_3    0.576067\n",
       "pixel_2_5    0.687978\n",
       "Length: 63, dtype: float64"
      ]
     },
     "execution_count": 473,
     "metadata": {},
     "output_type": "execute_result"
    }
   ],
   "source": [
    "coeffs = pd.Series(model.coef_.T.ravel(), index=X_train.columns)\n",
    "coeffs.sort_values()"
   ]
  },
  {
   "cell_type": "code",
   "execution_count": 474,
   "id": "recent-parker",
   "metadata": {},
   "outputs": [
    {
     "data": {
      "text/plain": [
       "0.16528462946260528"
      ]
     },
     "execution_count": 474,
     "metadata": {},
     "output_type": "execute_result"
    }
   ],
   "source": [
    "coeffs[\"count\"]"
   ]
  },
  {
   "cell_type": "code",
   "execution_count": 475,
   "id": "damaged-dating",
   "metadata": {},
   "outputs": [
    {
     "data": {
      "text/plain": [
       "-0.09868758991472028"
      ]
     },
     "execution_count": 475,
     "metadata": {},
     "output_type": "execute_result"
    }
   ],
   "source": [
    "coeffs[\"sum\"]"
   ]
  },
  {
   "cell_type": "code",
   "execution_count": 476,
   "id": "proved-crawford",
   "metadata": {},
   "outputs": [],
   "source": [
    "X_train[\"mean\"] = X_train.mean(1)\n",
    "X_test[\"mean\"] = X_test.mean(1)"
   ]
  },
  {
   "cell_type": "markdown",
   "id": "innovative-flooring",
   "metadata": {},
   "source": [
    "### Correlated Features"
   ]
  },
  {
   "cell_type": "code",
   "execution_count": 477,
   "id": "commercial-namibia",
   "metadata": {},
   "outputs": [
    {
     "name": "stdout",
     "output_type": "stream",
     "text": [
      "              precision    recall  f1-score   support\n",
      "\n",
      "           0       0.98      0.99      0.99       320\n",
      "           1       0.90      0.88      0.89        40\n",
      "\n",
      "    accuracy                           0.97       360\n",
      "   macro avg       0.94      0.93      0.94       360\n",
      "weighted avg       0.97      0.97      0.97       360\n",
      "\n"
     ]
    },
    {
     "name": "stderr",
     "output_type": "stream",
     "text": [
      "/opt/conda/lib/python3.7/site-packages/sklearn/linear_model/_logistic.py:765: ConvergenceWarning: lbfgs failed to converge (status=1):\n",
      "STOP: TOTAL NO. of ITERATIONS REACHED LIMIT.\n",
      "\n",
      "Increase the number of iterations (max_iter) or scale the data as shown in:\n",
      "    https://scikit-learn.org/stable/modules/preprocessing.html\n",
      "Please also refer to the documentation for alternative solver options:\n",
      "    https://scikit-learn.org/stable/modules/linear_model.html#logistic-regression\n",
      "  extra_warning_msg=_LOGISTIC_SOLVER_CONVERGENCE_MSG)\n"
     ]
    },
    {
     "data": {
      "text/plain": [
       "<AxesSubplot:>"
      ]
     },
     "execution_count": 477,
     "metadata": {},
     "output_type": "execute_result"
    },
    {
     "data": {
      "image/png": "[encoded data removed]",
      "text/plain": [
       "<Figure size 576x576 with 1 Axes>"
      ]
     },
     "metadata": {
      "needs_background": "light"
     },
     "output_type": "display_data"
    }
   ],
   "source": [
    "model = LogisticRegression()\n",
    "\n",
    "model.fit(X_train, y_train)\n",
    "\n",
    "preds = model.predict(X_test)\n",
    "\n",
    "print(classification_report(y_test, preds))\n",
    "\n",
    "conf = confusion_matrix(y_test, preds)\n",
    "\n",
    "fig, ax = plt.subplots(figsize=(8,8))\n",
    "sns.heatmap(conf, annot=True, fmt=\"g\", cbar=False, ax=ax, cmap=\"viridis\")"
   ]
  },
  {
   "cell_type": "code",
   "execution_count": 478,
   "id": "starting-clarity",
   "metadata": {},
   "outputs": [
    {
     "data": {
      "text/plain": [
       "pixel_5_3   -1.238652\n",
       "pixel_4_1   -0.779723\n",
       "pixel_5_2   -0.601599\n",
       "pixel_5_4   -0.348835\n",
       "pixel_3_4   -0.318537\n",
       "               ...   \n",
       "pixel_1_6    0.365967\n",
       "pixel_3_3    0.548850\n",
       "pixel_4_3    0.548854\n",
       "pixel_3_5    0.609075\n",
       "pixel_2_5    0.724396\n",
       "Length: 64, dtype: float64"
      ]
     },
     "execution_count": 478,
     "metadata": {},
     "output_type": "execute_result"
    }
   ],
   "source": [
    "coeffs = pd.Series(model.coef_.T.ravel(), index=X_train.columns)\n",
    "coeffs.sort_values()"
   ]
  },
  {
   "cell_type": "code",
   "execution_count": 479,
   "id": "pleased-tattoo",
   "metadata": {},
   "outputs": [
    {
     "data": {
      "text/plain": [
       "0.18736843502951436"
      ]
     },
     "execution_count": 479,
     "metadata": {},
     "output_type": "execute_result"
    }
   ],
   "source": [
    "coeffs[\"count\"]"
   ]
  },
  {
   "cell_type": "code",
   "execution_count": null,
   "id": "opposite-relations",
   "metadata": {},
   "outputs": [],
   "source": []
  }
 ],
 "metadata": {
  "kernelspec": {
   "display_name": "Python 3",
   "language": "python",
   "name": "python3"
  },
  "language_info": {
   "codemirror_mode": {
    "name": "ipython",
    "version": 3
   },
   "file_extension": ".py",
   "mimetype": "text/x-python",
   "name": "python",
   "nbconvert_exporter": "python",
   "pygments_lexer": "ipython3",
   "version": "3.7.8"
  }
 },
 "nbformat": 4,
 "nbformat_minor": 5
}
